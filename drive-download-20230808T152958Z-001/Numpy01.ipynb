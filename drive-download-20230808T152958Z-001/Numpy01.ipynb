{
 "cells": [
  {
   "cell_type": "markdown",
   "metadata": {
    "id": "YYQraGcwONMF"
   },
   "source": [
    "# Numpy Tutorial\n",
    "\n",
    "Wiki:\n",
    "\n",
    "NumPy是Python語言的一個擴充程式庫。支援高階大量的維度陣列與矩陣運算，此外也針對陣列運算提供大量的數學函式函式庫。\n",
    "\n",
    "NumPy的核心功能是ndarray（即n-dimensional array，多維陣列）資料結構。這是一個表示多維度、同質並且固定大小的陣列物件。而由一個與此陣列相關聯的資料型態物件來描述其陣列元素的資料格式（例如其字元組順序、在記憶體中佔用的字元組數量、整數或者浮點數等等）。\n",
    "\n",
    "* Reference links\n",
    "    * [A Visual Intro to NumPy and Data Representation](http://jalammar.github.io/visual-numpy/)"
   ]
  },
  {
   "cell_type": "code",
   "execution_count": 1,
   "metadata": {
    "ExecuteTime": {
     "end_time": "2019-12-21T18:02:02.633521Z",
     "start_time": "2019-12-21T18:02:02.629546Z"
    },
    "id": "o3afslllONMF"
   },
   "outputs": [],
   "source": [
    "import numpy as np"
   ]
  },
  {
   "cell_type": "markdown",
   "metadata": {
    "id": "ROaoozjwONMF"
   },
   "source": [
    "## BASICS"
   ]
  },
  {
   "cell_type": "code",
   "execution_count": 2,
   "metadata": {
    "colab": {
     "base_uri": "https://localhost:8080/"
    },
    "executionInfo": {
     "elapsed": 34,
     "status": "ok",
     "timestamp": 1662521751013,
     "user": {
      "displayName": "alan chen",
      "userId": "04205973771808470178"
     },
     "user_tz": -480
    },
    "id": "iKg_JDtU7p6A",
    "outputId": "782ee613-376f-43ac-d28e-922d5aac08c7"
   },
   "outputs": [
    {
     "data": {
      "text/plain": [
       "[1, 1, 1, 1, 1, 1]"
      ]
     },
     "execution_count": 2,
     "metadata": {},
     "output_type": "execute_result"
    }
   ],
   "source": [
    "[1, 1] * 3 # 註解"
   ]
  },
  {
   "cell_type": "code",
   "execution_count": 3,
   "metadata": {
    "colab": {
     "base_uri": "https://localhost:8080/"
    },
    "executionInfo": {
     "elapsed": 34,
     "status": "ok",
     "timestamp": 1662521751014,
     "user": {
      "displayName": "alan chen",
      "userId": "04205973771808470178"
     },
     "user_tz": -480
    },
    "id": "zmgOwf7mRyOe",
    "outputId": "5a46854e-918f-42ab-8e5a-ada39b3faa59"
   },
   "outputs": [
    {
     "name": "stdout",
     "output_type": "stream",
     "text": [
      "[1, 1, 1, 1, 1, 1]\n"
     ]
    }
   ],
   "source": [
    "print([1, 1] * 3) # list"
   ]
  },
  {
   "cell_type": "code",
   "execution_count": 4,
   "metadata": {
    "colab": {
     "base_uri": "https://localhost:8080/"
    },
    "executionInfo": {
     "elapsed": 30,
     "status": "ok",
     "timestamp": 1662521751014,
     "user": {
      "displayName": "alan chen",
      "userId": "04205973771808470178"
     },
     "user_tz": -480
    },
    "id": "aWz7naqq7Rww",
    "outputId": "4feeabc3-0b8f-490c-dbe2-23562aeed721"
   },
   "outputs": [
    {
     "data": {
      "text/plain": [
       "array([3, 3])"
      ]
     },
     "execution_count": 4,
     "metadata": {},
     "output_type": "execute_result"
    }
   ],
   "source": [
    "np.array([1, 1]) * 3 # array"
   ]
  },
  {
   "cell_type": "code",
   "execution_count": 5,
   "metadata": {
    "colab": {
     "base_uri": "https://localhost:8080/"
    },
    "executionInfo": {
     "elapsed": 26,
     "status": "ok",
     "timestamp": 1662521751014,
     "user": {
      "displayName": "alan chen",
      "userId": "04205973771808470178"
     },
     "user_tz": -480
    },
    "id": "qV_bLRkQaJiZ",
    "outputId": "0dffef23-4c76-4f4f-eca2-12469ddf7f51"
   },
   "outputs": [
    {
     "name": "stdout",
     "output_type": "stream",
     "text": [
      "[3 3]\n"
     ]
    }
   ],
   "source": [
    "print(np.array([1, 1]) * 3)"
   ]
  },
  {
   "cell_type": "code",
   "execution_count": 6,
   "metadata": {
    "colab": {
     "base_uri": "https://localhost:8080/"
    },
    "executionInfo": {
     "elapsed": 24,
     "status": "ok",
     "timestamp": 1662521751015,
     "user": {
      "displayName": "alan chen",
      "userId": "04205973771808470178"
     },
     "user_tz": -480
    },
    "id": "shCS-pXERZ5F",
    "outputId": "04436170-70b8-4b3a-9548-a8d28e671191"
   },
   "outputs": [
    {
     "name": "stdout",
     "output_type": "stream",
     "text": [
      "[1 2 3]\n",
      "[[1. 1. 1.]\n",
      " [1. 1. 1.]]\n"
     ]
    }
   ],
   "source": [
    "a = np.array([1, 2, 3]) # array  \n",
    "print(a)\n",
    "\n",
    "b = np.array( [[1., 1., 1.], # row:0   #橫 row 直 column\n",
    "         [1., 1., 1.]] ) # row:1\n",
    "\n",
    "print(b)"
   ]
  },
  {
   "cell_type": "code",
   "execution_count": null,
   "metadata": {
    "colab": {
     "base_uri": "https://localhost:8080/"
    },
    "executionInfo": {
     "elapsed": 21,
     "status": "ok",
     "timestamp": 1662521751015,
     "user": {
      "displayName": "alan chen",
      "userId": "04205973771808470178"
     },
     "user_tz": -480
    },
    "id": "L4x8kig2ThE-",
    "outputId": "b4c5816a-399a-42dc-f198-44aad767f646"
   },
   "outputs": [
    {
     "name": "stdout",
     "output_type": "stream",
     "text": [
      "1\n",
      "2\n"
     ]
    }
   ],
   "source": [
    "print(a.ndim) # 維\n",
    "print(b.ndim)"
   ]
  },
  {
   "cell_type": "code",
   "execution_count": 7,
   "metadata": {
    "ExecuteTime": {
     "end_time": "2019-12-21T18:02:03.170854Z",
     "start_time": "2019-12-21T18:02:02.637485Z"
    },
    "colab": {
     "base_uri": "https://localhost:8080/"
    },
    "executionInfo": {
     "elapsed": 18,
     "status": "ok",
     "timestamp": 1662521751015,
     "user": {
      "displayName": "alan chen",
      "userId": "04205973771808470178"
     },
     "user_tz": -480
    },
    "id": "oHB7x_MOONMF",
    "outputId": "ef08ee42-e901-42ea-b0a2-7cb8298e7c8a"
   },
   "outputs": [
    {
     "name": "stdout",
     "output_type": "stream",
     "text": [
      "int32 float64 int32\n"
     ]
    }
   ],
   "source": [
    "a = np.array([1, 2, 3])\n",
    "\n",
    "b = np.array([\n",
    "    [1., 1., 1.], # row:0   #橫 row 直 column\n",
    "    [1., 1., 1.] # row:1\n",
    "])\n",
    "\n",
    "c = np.array([1, 2, 3], dtype=\"int32\")\n",
    "print(a.dtype, b.dtype, c.dtype)"
   ]
  },
  {
   "cell_type": "code",
   "execution_count": null,
   "metadata": {
    "colab": {
     "base_uri": "https://localhost:8080/"
    },
    "executionInfo": {
     "elapsed": 16,
     "status": "ok",
     "timestamp": 1662521751016,
     "user": {
      "displayName": "alan chen",
      "userId": "04205973771808470178"
     },
     "user_tz": -480
    },
    "id": "3rdHDpjRZA2k",
    "outputId": "e436e0e1-5e3b-489d-c69a-3eea0927ca74"
   },
   "outputs": [
    {
     "name": "stdout",
     "output_type": "stream",
     "text": [
      "3\n",
      "6\n",
      "3\n"
     ]
    }
   ],
   "source": [
    "print(a.size)\n",
    "print(b.size)\n",
    "print(c.size)"
   ]
  },
  {
   "cell_type": "code",
   "execution_count": null,
   "metadata": {
    "colab": {
     "base_uri": "https://localhost:8080/"
    },
    "executionInfo": {
     "elapsed": 13,
     "status": "ok",
     "timestamp": 1662521751016,
     "user": {
      "displayName": "alan chen",
      "userId": "04205973771808470178"
     },
     "user_tz": -480
    },
    "id": "aZpZ2IEXe_e-",
    "outputId": "3823f464-d021-4b27-c715-2c3230ac60de"
   },
   "outputs": [
    {
     "name": "stdout",
     "output_type": "stream",
     "text": [
      "[1 2 3]\n",
      "[[1. 1. 1.]\n",
      " [1. 1. 1.]]\n",
      "[1 2 3]\n"
     ]
    }
   ],
   "source": [
    "print(a) # not list!! no ','!\n",
    "print(b)\n",
    "print(c)"
   ]
  },
  {
   "cell_type": "code",
   "execution_count": null,
   "metadata": {
    "colab": {
     "base_uri": "https://localhost:8080/"
    },
    "executionInfo": {
     "elapsed": 840,
     "status": "ok",
     "timestamp": 1662521751847,
     "user": {
      "displayName": "alan chen",
      "userId": "04205973771808470178"
     },
     "user_tz": -480
    },
    "id": "uHAatQ5JYIOZ",
    "outputId": "4089db08-ac3a-41b0-b070-45e5b5902ae7"
   },
   "outputs": [
    {
     "name": "stdout",
     "output_type": "stream",
     "text": [
      "(3,)\n",
      "(2, 3)\n",
      "(3,)\n"
     ]
    }
   ],
   "source": [
    "print(a.shape)\n",
    "print(b.shape) # row, col\n",
    "print(c.shape)"
   ]
  },
  {
   "cell_type": "code",
   "execution_count": null,
   "metadata": {
    "colab": {
     "base_uri": "https://localhost:8080/"
    },
    "executionInfo": {
     "elapsed": 95,
     "status": "ok",
     "timestamp": 1662521751847,
     "user": {
      "displayName": "alan chen",
      "userId": "04205973771808470178"
     },
     "user_tz": -480
    },
    "id": "2NbBNWEcnMXd",
    "outputId": "98cc8615-964d-4b52-8dbe-a01135754e04"
   },
   "outputs": [
    {
     "data": {
      "text/plain": [
       "2"
      ]
     },
     "execution_count": 12,
     "metadata": {},
     "output_type": "execute_result"
    }
   ],
   "source": [
    "b.shape[0]"
   ]
  },
  {
   "cell_type": "code",
   "execution_count": null,
   "metadata": {
    "colab": {
     "base_uri": "https://localhost:8080/"
    },
    "executionInfo": {
     "elapsed": 88,
     "status": "ok",
     "timestamp": 1662521751847,
     "user": {
      "displayName": "alan chen",
      "userId": "04205973771808470178"
     },
     "user_tz": -480
    },
    "id": "ZslsDzRTnQQ_",
    "outputId": "521e743b-65ee-4551-dd2e-cd9a765373b9"
   },
   "outputs": [
    {
     "data": {
      "text/plain": [
       "3"
      ]
     },
     "execution_count": 13,
     "metadata": {},
     "output_type": "execute_result"
    }
   ],
   "source": [
    "b.shape[1]"
   ]
  },
  {
   "cell_type": "code",
   "execution_count": null,
   "metadata": {
    "ExecuteTime": {
     "end_time": "2019-12-21T18:02:03.410214Z",
     "start_time": "2019-12-21T18:02:03.172848Z"
    },
    "colab": {
     "base_uri": "https://localhost:8080/"
    },
    "executionInfo": {
     "elapsed": 85,
     "status": "ok",
     "timestamp": 1662521751848,
     "user": {
      "displayName": "alan chen",
      "userId": "04205973771808470178"
     },
     "user_tz": -480
    },
    "id": "iXC_57PSONMF",
    "outputId": "4009c35e-fdfc-428b-d80b-f020f3ba3fd0"
   },
   "outputs": [
    {
     "name": "stdout",
     "output_type": "stream",
     "text": [
      "[1 2 3]\n",
      "[[1. 1. 1.]\n",
      " [1. 1. 1.]]\n",
      "[1 2 3]\n",
      "-------\n",
      "1\n",
      "2\n",
      "1\n",
      "-------\n",
      "(3,)\n",
      "(2, 3)\n",
      "(3,)\n",
      "-------\n",
      "3\n",
      "6\n",
      "3\n"
     ]
    }
   ],
   "source": [
    "print(a)\n",
    "print(b)\n",
    "print(c)\n",
    "print('-------')\n",
    "print(a.ndim)\n",
    "print(b.ndim)\n",
    "print(c.ndim)\n",
    "print('-------')\n",
    "print(a.shape)\n",
    "print(b.shape)\n",
    "print(c.shape)\n",
    "print('-------')\n",
    "print(a.size)\n",
    "print(b.size)\n",
    "print(c.size)"
   ]
  },
  {
   "cell_type": "code",
   "execution_count": null,
   "metadata": {
    "colab": {
     "base_uri": "https://localhost:8080/"
    },
    "executionInfo": {
     "elapsed": 81,
     "status": "ok",
     "timestamp": 1662521751848,
     "user": {
      "displayName": "alan chen",
      "userId": "04205973771808470178"
     },
     "user_tz": -480
    },
    "id": "21sg0tW5-BrY",
    "outputId": "340ac3c7-e9c4-48fe-9210-03d0d9f5b7f5"
   },
   "outputs": [
    {
     "data": {
      "text/plain": [
       "(3,)"
      ]
     },
     "execution_count": 15,
     "metadata": {},
     "output_type": "execute_result"
    }
   ],
   "source": [
    "np.array([1,2,3]).shape # not row or column"
   ]
  },
  {
   "cell_type": "code",
   "execution_count": null,
   "metadata": {
    "colab": {
     "base_uri": "https://localhost:8080/"
    },
    "executionInfo": {
     "elapsed": 76,
     "status": "ok",
     "timestamp": 1662521751848,
     "user": {
      "displayName": "alan chen",
      "userId": "04205973771808470178"
     },
     "user_tz": -480
    },
    "id": "PCNxS200cm_V",
    "outputId": "dc0c395e-c281-4269-fd81-bd973a271130"
   },
   "outputs": [
    {
     "name": "stdout",
     "output_type": "stream",
     "text": [
      "[[1 2 3]]\n"
     ]
    },
    {
     "data": {
      "text/plain": [
       "(1, 3)"
      ]
     },
     "execution_count": 16,
     "metadata": {},
     "output_type": "execute_result"
    }
   ],
   "source": [
    "print(np.array([[1,2,3]])) # 2-d\n",
    "\n",
    "np.array([[1,2,3]]).shape # 1 row, 3 columns"
   ]
  },
  {
   "cell_type": "code",
   "execution_count": null,
   "metadata": {
    "colab": {
     "base_uri": "https://localhost:8080/"
    },
    "executionInfo": {
     "elapsed": 73,
     "status": "ok",
     "timestamp": 1662521751849,
     "user": {
      "displayName": "alan chen",
      "userId": "04205973771808470178"
     },
     "user_tz": -480
    },
    "id": "sZemvIbaZxaU",
    "outputId": "450b0cf5-88da-4168-8753-f3a99134ed1f"
   },
   "outputs": [
    {
     "name": "stdout",
     "output_type": "stream",
     "text": [
      "[[1]\n",
      " [2]\n",
      " [3]]\n"
     ]
    },
    {
     "data": {
      "text/plain": [
       "(3, 1)"
      ]
     },
     "execution_count": 17,
     "metadata": {},
     "output_type": "execute_result"
    }
   ],
   "source": [
    "print(np.array([[1],[2],[3]])) # 3 rows  1 column\n",
    "np.array([[1],[2],[3]]).shape"
   ]
  },
  {
   "cell_type": "code",
   "execution_count": null,
   "metadata": {
    "colab": {
     "base_uri": "https://localhost:8080/"
    },
    "executionInfo": {
     "elapsed": 70,
     "status": "ok",
     "timestamp": 1662521751849,
     "user": {
      "displayName": "alan chen",
      "userId": "04205973771808470178"
     },
     "user_tz": -480
    },
    "id": "bwWs5RNIi75C",
    "outputId": "13c8703a-7040-45bc-dc88-846f8d45be40"
   },
   "outputs": [
    {
     "data": {
      "text/plain": [
       "array([1, 2, 3])"
      ]
     },
     "execution_count": 18,
     "metadata": {},
     "output_type": "execute_result"
    }
   ],
   "source": [
    "np.array([1,2,3])"
   ]
  },
  {
   "cell_type": "code",
   "execution_count": null,
   "metadata": {
    "colab": {
     "base_uri": "https://localhost:8080/"
    },
    "executionInfo": {
     "elapsed": 67,
     "status": "ok",
     "timestamp": 1662521751849,
     "user": {
      "displayName": "alan chen",
      "userId": "04205973771808470178"
     },
     "user_tz": -480
    },
    "id": "Si3Pusz2jDjK",
    "outputId": "14c380ce-73bf-459a-da57-b6d66378644e"
   },
   "outputs": [
    {
     "data": {
      "text/plain": [
       "(3,)"
      ]
     },
     "execution_count": 19,
     "metadata": {},
     "output_type": "execute_result"
    }
   ],
   "source": [
    "np.array([1,2,3]).shape"
   ]
  },
  {
   "cell_type": "markdown",
   "metadata": {
    "id": "FX34aoFJONMG"
   },
   "source": [
    "* **Numpy Benefits**\n",
    "\n",
    "    1) Fixed Type\n",
    "    \n",
    "    2) Contiguous memory\n",
    "\n",
    "    3) Array 可運算 List or Tuple 不可運算\n"
   ]
  },
  {
   "cell_type": "code",
   "execution_count": null,
   "metadata": {
    "ExecuteTime": {
     "end_time": "2019-12-21T18:02:03.550195Z",
     "start_time": "2019-12-21T18:02:03.411211Z"
    },
    "colab": {
     "base_uri": "https://localhost:8080/"
    },
    "executionInfo": {
     "elapsed": 65,
     "status": "ok",
     "timestamp": 1662521751850,
     "user": {
      "displayName": "alan chen",
      "userId": "04205973771808470178"
     },
     "user_tz": -480
    },
    "id": "qRbtComrONMG",
    "outputId": "dcc1ec06-4fa5-4458-f893-039659c28b59"
   },
   "outputs": [
    {
     "name": "stdout",
     "output_type": "stream",
     "text": [
      "int64\n",
      "float64\n",
      "int32\n"
     ]
    }
   ],
   "source": [
    "# get type\n",
    "print(a.dtype)\n",
    "print(b.dtype)\n",
    "print(c.dtype)"
   ]
  },
  {
   "cell_type": "code",
   "execution_count": null,
   "metadata": {
    "ExecuteTime": {
     "end_time": "2019-12-21T18:02:03.690975Z",
     "start_time": "2019-12-21T18:02:03.552190Z"
    },
    "colab": {
     "base_uri": "https://localhost:8080/"
    },
    "executionInfo": {
     "elapsed": 60,
     "status": "ok",
     "timestamp": 1662521751850,
     "user": {
      "displayName": "alan chen",
      "userId": "04205973771808470178"
     },
     "user_tz": -480
    },
    "id": "NqThtnYiONMG",
    "outputId": "408284b1-b09d-47d6-92f2-7347c7a8336c"
   },
   "outputs": [
    {
     "name": "stdout",
     "output_type": "stream",
     "text": [
      "int64 8\n",
      "float64 8\n",
      "int32 4\n"
     ]
    }
   ],
   "source": [
    "# get size - itemsize (bytes) of each item (B) # 1 byte = 8 bits # 64 bits = 8 bytes\n",
    "print(a.dtype, a.itemsize) # 64/8 = 8  bytes\n",
    "print(b.dtype, b.itemsize)\n",
    "print(c.dtype, c.itemsize)"
   ]
  },
  {
   "cell_type": "code",
   "execution_count": null,
   "metadata": {
    "colab": {
     "base_uri": "https://localhost:8080/"
    },
    "executionInfo": {
     "elapsed": 56,
     "status": "ok",
     "timestamp": 1662521751850,
     "user": {
      "displayName": "alan chen",
      "userId": "04205973771808470178"
     },
     "user_tz": -480
    },
    "id": "jmGkjhpMAtby",
    "outputId": "a50f1f6a-c2a0-4ba9-f4d8-fcbcf7376b93"
   },
   "outputs": [
    {
     "data": {
      "text/plain": [
       "array([1, 2, 3])"
      ]
     },
     "execution_count": 22,
     "metadata": {},
     "output_type": "execute_result"
    }
   ],
   "source": [
    "a"
   ]
  },
  {
   "cell_type": "code",
   "execution_count": null,
   "metadata": {
    "ExecuteTime": {
     "end_time": "2019-12-21T18:02:03.817736Z",
     "start_time": "2019-12-21T18:02:03.693964Z"
    },
    "colab": {
     "base_uri": "https://localhost:8080/"
    },
    "executionInfo": {
     "elapsed": 53,
     "status": "ok",
     "timestamp": 1662521751851,
     "user": {
      "displayName": "alan chen",
      "userId": "04205973771808470178"
     },
     "user_tz": -480
    },
    "id": "KB1xISS7ONMG",
    "outputId": "93c147de-4cad-49f9-cb40-483becb690e8"
   },
   "outputs": [
    {
     "name": "stdout",
     "output_type": "stream",
     "text": [
      "24\n",
      "3 8 24\n",
      "6 8 48\n",
      "3 4 12\n"
     ]
    }
   ],
   "source": [
    "# get total size - total space used (Bytes)\n",
    "print(a.size * a.itemsize) # 3 * 8\n",
    "print(a.size, a.itemsize, a.nbytes)\n",
    "print(b.size, b.itemsize, b.nbytes)\n",
    "print(c.size, c.itemsize, c.nbytes)"
   ]
  },
  {
   "cell_type": "code",
   "execution_count": null,
   "metadata": {
    "ExecuteTime": {
     "end_time": "2019-12-21T18:02:03.988276Z",
     "start_time": "2019-12-21T18:02:03.819731Z"
    },
    "colab": {
     "base_uri": "https://localhost:8080/"
    },
    "executionInfo": {
     "elapsed": 49,
     "status": "ok",
     "timestamp": 1662521751851,
     "user": {
      "displayName": "alan chen",
      "userId": "04205973771808470178"
     },
     "user_tz": -480
    },
    "id": "dGFfxu57ONMG",
    "outputId": "d73cd65c-3d44-4977-a543-9f3df0bbd759"
   },
   "outputs": [
    {
     "name": "stdout",
     "output_type": "stream",
     "text": [
      "<class 'list'>\n",
      "[range(1, 5), range(5, 9)]\n",
      "<class 'numpy.ndarray'>\n",
      "[[1 2 3 4]\n",
      " [5 6 7 8]]\n",
      "<class 'list'>\n",
      "[[1, 2, 3, 4], [5, 6, 7, 8]]\n"
     ]
    }
   ],
   "source": [
    "arr = [range(1, 5), range(5, 9)] # list of range\n",
    "print(type(arr))\n",
    "print(arr)\n",
    "\n",
    "e = np.array(arr) # 2d array\n",
    "print(type(e))\n",
    "print(e)\n",
    "\n",
    "x = e.tolist() # convert array back to list \n",
    "print(type(x))\n",
    "print(x)"
   ]
  },
  {
   "cell_type": "markdown",
   "metadata": {
    "ExecuteTime": {
     "end_time": "2019-12-20T20:21:51.591844Z",
     "start_time": "2019-12-20T20:21:51.586531Z"
    },
    "id": "Qa7DXkbSONMH"
   },
   "source": [
    "## Adding and removing elements from numpy arrays"
   ]
  },
  {
   "cell_type": "code",
   "execution_count": null,
   "metadata": {
    "colab": {
     "base_uri": "https://localhost:8080/"
    },
    "executionInfo": {
     "elapsed": 43,
     "status": "ok",
     "timestamp": 1662521751851,
     "user": {
      "displayName": "alan chen",
      "userId": "04205973771808470178"
     },
     "user_tz": -480
    },
    "id": "vlDauVQXpnH2",
    "outputId": "6b670ace-4e32-4dab-f382-f9aba88c89d9"
   },
   "outputs": [
    {
     "data": {
      "text/plain": [
       "array([ 0,  1,  2,  3,  4,  5,  6,  7,  8,  9, 10, 11, 12, 13, 14, 15, 16,\n",
       "       17, 18, 19, 20, 21, 22, 23])"
      ]
     },
     "execution_count": 25,
     "metadata": {},
     "output_type": "execute_result"
    }
   ],
   "source": [
    "a = np.arange(24) # np.array(range(24))\n",
    "a"
   ]
  },
  {
   "cell_type": "code",
   "execution_count": null,
   "metadata": {
    "colab": {
     "base_uri": "https://localhost:8080/"
    },
    "executionInfo": {
     "elapsed": 41,
     "status": "ok",
     "timestamp": 1662521751852,
     "user": {
      "displayName": "alan chen",
      "userId": "04205973771808470178"
     },
     "user_tz": -480
    },
    "id": "2FteLWeopuBu",
    "outputId": "7a941c19-fe24-4fcb-cac6-c2a6231f7983"
   },
   "outputs": [
    {
     "name": "stdout",
     "output_type": "stream",
     "text": [
      "(24,)\n"
     ]
    }
   ],
   "source": [
    "print(a.shape)"
   ]
  },
  {
   "cell_type": "code",
   "execution_count": null,
   "metadata": {
    "colab": {
     "base_uri": "https://localhost:8080/"
    },
    "executionInfo": {
     "elapsed": 38,
     "status": "ok",
     "timestamp": 1662521751852,
     "user": {
      "displayName": "alan chen",
      "userId": "04205973771808470178"
     },
     "user_tz": -480
    },
    "id": "edCzxkdepzuB",
    "outputId": "70a03cd4-6a37-4c4e-948a-bbd1ca62b7d9"
   },
   "outputs": [
    {
     "name": "stdout",
     "output_type": "stream",
     "text": [
      "(3, 8)\n",
      "[[ 0  1  2  3  4  5  6  7]\n",
      " [ 8  9 10 11 12 13 14 15]\n",
      " [16 17 18 19 20 21 22 23]]\n"
     ]
    }
   ],
   "source": [
    "a = np.arange(24).reshape((3,8))\n",
    "print(a.shape)\n",
    "print(a)"
   ]
  },
  {
   "cell_type": "code",
   "execution_count": null,
   "metadata": {
    "ExecuteTime": {
     "end_time": "2019-12-21T18:02:04.136119Z",
     "start_time": "2019-12-21T18:02:03.989219Z"
    },
    "colab": {
     "base_uri": "https://localhost:8080/"
    },
    "executionInfo": {
     "elapsed": 35,
     "status": "ok",
     "timestamp": 1662521751852,
     "user": {
      "displayName": "alan chen",
      "userId": "04205973771808470178"
     },
     "user_tz": -480
    },
    "id": "sLziSerDONMH",
    "outputId": "e473e33f-6ae2-4a46-e263-459fedc34444"
   },
   "outputs": [
    {
     "name": "stdout",
     "output_type": "stream",
     "text": [
      "3\n",
      "(2, 3, 4)\n",
      "[[[ 0  1  2  3]\n",
      "  [ 4  5  6  7]\n",
      "  [ 8  9 10 11]]\n",
      "\n",
      " [[12 13 14 15]\n",
      "  [16 17 18 19]\n",
      "  [20 21 22 23]]]\n"
     ]
    }
   ],
   "source": [
    "a = np.arange(24).reshape((2, 3, 4)) # 3-d, consisting of two 2-d arrays, each array has 3 rows 4 columns\n",
    "print(a.ndim)\n",
    "print(a.shape)\n",
    "print(a)"
   ]
  },
  {
   "cell_type": "code",
   "execution_count": null,
   "metadata": {
    "ExecuteTime": {
     "end_time": "2019-12-21T18:02:04.277857Z",
     "start_time": "2019-12-21T18:02:04.138058Z"
    },
    "colab": {
     "base_uri": "https://localhost:8080/"
    },
    "executionInfo": {
     "elapsed": 31,
     "status": "ok",
     "timestamp": 1662521751853,
     "user": {
      "displayName": "alan chen",
      "userId": "04205973771808470178"
     },
     "user_tz": -480
    },
    "id": "agPMJyU6ONMH",
    "outputId": "414e0c60-c290-409a-bc43-8559d6084d9a"
   },
   "outputs": [
    {
     "data": {
      "text/plain": [
       "array([ 0,  1,  2,  3,  4,  5,  6,  7,  8,  9, 10, 11, 12, 13, 14, 15, 16,\n",
       "       17, 18, 19, 20, 21, 22, 23,  5,  6,  7,  8])"
      ]
     },
     "execution_count": 29,
     "metadata": {},
     "output_type": "execute_result"
    }
   ],
   "source": [
    "b = np.append(a, [5, 6, 7, 8]) # append to 1-d\n",
    "b"
   ]
  },
  {
   "cell_type": "code",
   "execution_count": null,
   "metadata": {
    "ExecuteTime": {
     "end_time": "2019-12-21T18:02:04.470884Z",
     "start_time": "2019-12-21T18:02:04.280799Z"
    },
    "colab": {
     "base_uri": "https://localhost:8080/"
    },
    "executionInfo": {
     "elapsed": 27,
     "status": "ok",
     "timestamp": 1662521751853,
     "user": {
      "displayName": "alan chen",
      "userId": "04205973771808470178"
     },
     "user_tz": -480
    },
    "id": "SOHJ8Fb4ONMH",
    "outputId": "6567822c-2273-4721-e4e1-272034556be8"
   },
   "outputs": [
    {
     "data": {
      "text/plain": [
       "(28,)"
      ]
     },
     "execution_count": 30,
     "metadata": {},
     "output_type": "execute_result"
    }
   ],
   "source": [
    "b.shape # 1-d"
   ]
  },
  {
   "cell_type": "code",
   "execution_count": null,
   "metadata": {
    "ExecuteTime": {
     "end_time": "2019-12-21T18:02:04.742265Z",
     "start_time": "2019-12-21T18:02:04.471877Z"
    },
    "colab": {
     "base_uri": "https://localhost:8080/"
    },
    "executionInfo": {
     "elapsed": 24,
     "status": "ok",
     "timestamp": 1662521751854,
     "user": {
      "displayName": "alan chen",
      "userId": "04205973771808470178"
     },
     "user_tz": -480
    },
    "id": "KWq9qoimONMH",
    "outputId": "94eb4c0b-7f3d-4314-81c2-8eea77bb1841"
   },
   "outputs": [
    {
     "data": {
      "text/plain": [
       "array([[ 0,  1,  2,  3],\n",
       "       [ 4,  5,  6,  7],\n",
       "       [ 8,  9, 10, 11],\n",
       "       [12, 13, 14, 15],\n",
       "       [16, 17, 18, 19],\n",
       "       [20, 21, 22, 23],\n",
       "       [ 5,  6,  7,  8]])"
      ]
     },
     "execution_count": 31,
     "metadata": {},
     "output_type": "execute_result"
    }
   ],
   "source": [
    "b.reshape((7, 4)) # 1-d to 2-d"
   ]
  },
  {
   "cell_type": "code",
   "execution_count": null,
   "metadata": {
    "ExecuteTime": {
     "end_time": "2019-12-21T18:02:04.877858Z",
     "start_time": "2019-12-21T18:02:04.743261Z"
    },
    "colab": {
     "base_uri": "https://localhost:8080/"
    },
    "executionInfo": {
     "elapsed": 22,
     "status": "ok",
     "timestamp": 1662521751854,
     "user": {
      "displayName": "alan chen",
      "userId": "04205973771808470178"
     },
     "user_tz": -480
    },
    "id": "dwxUSSPmONMH",
    "outputId": "6eefd62d-018d-468b-fd5b-5f4b1a459bc0"
   },
   "outputs": [
    {
     "data": {
      "text/plain": [
       "array([[[ 0,  1,  2,  3],\n",
       "        [ 4,  5,  6,  7],\n",
       "        [ 8,  9, 10, 11]],\n",
       "\n",
       "       [[12, 13, 14, 15],\n",
       "        [16, 17, 18, 19],\n",
       "        [20, 21, 22, 23]]])"
      ]
     },
     "execution_count": 32,
     "metadata": {},
     "output_type": "execute_result"
    }
   ],
   "source": [
    "a"
   ]
  },
  {
   "cell_type": "code",
   "execution_count": null,
   "metadata": {
    "colab": {
     "base_uri": "https://localhost:8080/"
    },
    "executionInfo": {
     "elapsed": 18,
     "status": "ok",
     "timestamp": 1662521751854,
     "user": {
      "displayName": "alan chen",
      "userId": "04205973771808470178"
     },
     "user_tz": -480
    },
    "id": "iO2G6UhuBEAt",
    "outputId": "474f0525-d7f9-419b-ad85-d8aa1d828d57"
   },
   "outputs": [
    {
     "data": {
      "text/plain": [
       "(2, 3, 4)"
      ]
     },
     "execution_count": 33,
     "metadata": {},
     "output_type": "execute_result"
    }
   ],
   "source": [
    "a.shape"
   ]
  },
  {
   "cell_type": "code",
   "execution_count": null,
   "metadata": {
    "ExecuteTime": {
     "end_time": "2019-12-21T18:02:05.058452Z",
     "start_time": "2019-12-21T18:02:04.878856Z"
    },
    "colab": {
     "base_uri": "https://localhost:8080/"
    },
    "executionInfo": {
     "elapsed": 4,
     "status": "ok",
     "timestamp": 1662521760575,
     "user": {
      "displayName": "alan chen",
      "userId": "04205973771808470178"
     },
     "user_tz": -480
    },
    "id": "prI45OWkONMH",
    "outputId": "d54386c0-5b89-4262-8be3-67bcc101d73b"
   },
   "outputs": [
    {
     "data": {
      "text/plain": [
       "array([[[  3,  13,  23,  33],\n",
       "        [ 43,  53,  63,  73],\n",
       "        [ 83,  93, 103, 113]],\n",
       "\n",
       "       [[123, 133, 143, 153],\n",
       "        [163, 173, 183, 193],\n",
       "        [203, 213, 223, 233]]])"
      ]
     },
     "execution_count": 34,
     "metadata": {},
     "output_type": "execute_result"
    }
   ],
   "source": [
    "c = a * 10 + 3\n",
    "c"
   ]
  },
  {
   "cell_type": "code",
   "execution_count": null,
   "metadata": {
    "ExecuteTime": {
     "end_time": "2019-12-21T18:02:05.202247Z",
     "start_time": "2019-12-21T18:02:05.059412Z"
    },
    "colab": {
     "base_uri": "https://localhost:8080/"
    },
    "executionInfo": {
     "elapsed": 2,
     "status": "ok",
     "timestamp": 1662521763793,
     "user": {
      "displayName": "alan chen",
      "userId": "04205973771808470178"
     },
     "user_tz": -480
    },
    "id": "tG3hzTpWONMH",
    "outputId": "7fcb6f2c-2847-4414-d09d-b090a9da0a3d"
   },
   "outputs": [
    {
     "data": {
      "text/plain": [
       "array([[[  0,   1,   2,   3],\n",
       "        [  4,   5,   6,   7],\n",
       "        [  8,   9,  10,  11]],\n",
       "\n",
       "       [[ 12,  13,  14,  15],\n",
       "        [ 16,  17,  18,  19],\n",
       "        [ 20,  21,  22,  23]],\n",
       "\n",
       "       [[  3,  13,  23,  33],\n",
       "        [ 43,  53,  63,  73],\n",
       "        [ 83,  93, 103, 113]],\n",
       "\n",
       "       [[123, 133, 143, 153],\n",
       "        [163, 173, 183, 193],\n",
       "        [203, 213, 223, 233]]])"
      ]
     },
     "execution_count": 35,
     "metadata": {},
     "output_type": "execute_result"
    }
   ],
   "source": [
    "np.append(a, c, axis=0) # axis=0 -> 組方向"
   ]
  },
  {
   "cell_type": "code",
   "execution_count": null,
   "metadata": {
    "ExecuteTime": {
     "end_time": "2019-12-21T18:02:05.375704Z",
     "start_time": "2019-12-21T18:02:05.203209Z"
    },
    "colab": {
     "base_uri": "https://localhost:8080/"
    },
    "executionInfo": {
     "elapsed": 15,
     "status": "ok",
     "timestamp": 1659836646998,
     "user": {
      "displayName": "alan chen",
      "userId": "04205973771808470178"
     },
     "user_tz": -480
    },
    "id": "Bea17TLlONMH",
    "outputId": "bd492af9-4880-4ed5-f4c3-1304d702e602"
   },
   "outputs": [
    {
     "data": {
      "text/plain": [
       "(4, 3, 4)"
      ]
     },
     "execution_count": 35,
     "metadata": {},
     "output_type": "execute_result"
    }
   ],
   "source": [
    "np.append(a, c, axis=0).shape # a c (2,3,4) -> (4,3,4)"
   ]
  },
  {
   "cell_type": "code",
   "execution_count": null,
   "metadata": {
    "ExecuteTime": {
     "end_time": "2019-12-21T18:02:05.566037Z",
     "start_time": "2019-12-21T18:02:05.376720Z"
    },
    "colab": {
     "base_uri": "https://localhost:8080/"
    },
    "executionInfo": {
     "elapsed": 486,
     "status": "ok",
     "timestamp": 1659836647472,
     "user": {
      "displayName": "alan chen",
      "userId": "04205973771808470178"
     },
     "user_tz": -480
    },
    "id": "Wjn0V9FLONMH",
    "outputId": "b39aab52-1804-4d53-ce5c-95129d193c67"
   },
   "outputs": [
    {
     "data": {
      "text/plain": [
       "array([[[  0,   1,   2,   3],\n",
       "        [  4,   5,   6,   7],\n",
       "        [  8,   9,  10,  11],\n",
       "        [  3,  13,  23,  33],\n",
       "        [ 43,  53,  63,  73],\n",
       "        [ 83,  93, 103, 113]],\n",
       "\n",
       "       [[ 12,  13,  14,  15],\n",
       "        [ 16,  17,  18,  19],\n",
       "        [ 20,  21,  22,  23],\n",
       "        [123, 133, 143, 153],\n",
       "        [163, 173, 183, 193],\n",
       "        [203, 213, 223, 233]]])"
      ]
     },
     "execution_count": 36,
     "metadata": {},
     "output_type": "execute_result"
    }
   ],
   "source": [
    "np.append(a, c, axis=1) # (2,3,4) -> (2,6,4)"
   ]
  },
  {
   "cell_type": "code",
   "execution_count": null,
   "metadata": {
    "ExecuteTime": {
     "end_time": "2019-12-21T18:02:05.703614Z",
     "start_time": "2019-12-21T18:02:05.567034Z"
    },
    "colab": {
     "base_uri": "https://localhost:8080/"
    },
    "executionInfo": {
     "elapsed": 84,
     "status": "ok",
     "timestamp": 1659836647472,
     "user": {
      "displayName": "alan chen",
      "userId": "04205973771808470178"
     },
     "user_tz": -480
    },
    "id": "S1X3AR6TONMH",
    "outputId": "df9dad81-4b87-439b-dd37-b5577f2ccc9d"
   },
   "outputs": [
    {
     "data": {
      "text/plain": [
       "(2, 6, 4)"
      ]
     },
     "execution_count": 37,
     "metadata": {},
     "output_type": "execute_result"
    }
   ],
   "source": [
    "np.append(a, c, axis=1).shape"
   ]
  },
  {
   "cell_type": "code",
   "execution_count": null,
   "metadata": {
    "ExecuteTime": {
     "end_time": "2019-12-21T18:02:05.842509Z",
     "start_time": "2019-12-21T18:02:05.704609Z"
    },
    "colab": {
     "base_uri": "https://localhost:8080/"
    },
    "executionInfo": {
     "elapsed": 80,
     "status": "ok",
     "timestamp": 1659836647473,
     "user": {
      "displayName": "alan chen",
      "userId": "04205973771808470178"
     },
     "user_tz": -480
    },
    "id": "DM4Ok9iBONMH",
    "outputId": "34d18896-3d33-4013-c160-4f2197bb3c74"
   },
   "outputs": [
    {
     "data": {
      "text/plain": [
       "array([[[  0,   1,   2,   3,   3,  13,  23,  33],\n",
       "        [  4,   5,   6,   7,  43,  53,  63,  73],\n",
       "        [  8,   9,  10,  11,  83,  93, 103, 113]],\n",
       "\n",
       "       [[ 12,  13,  14,  15, 123, 133, 143, 153],\n",
       "        [ 16,  17,  18,  19, 163, 173, 183, 193],\n",
       "        [ 20,  21,  22,  23, 203, 213, 223, 233]]])"
      ]
     },
     "execution_count": 38,
     "metadata": {},
     "output_type": "execute_result"
    }
   ],
   "source": [
    "np.append(a, c, axis=2) # (2,3,4) -> (2,3,8)"
   ]
  },
  {
   "cell_type": "code",
   "execution_count": null,
   "metadata": {
    "ExecuteTime": {
     "end_time": "2019-12-21T18:02:05.993644Z",
     "start_time": "2019-12-21T18:02:05.843506Z"
    },
    "colab": {
     "base_uri": "https://localhost:8080/"
    },
    "executionInfo": {
     "elapsed": 75,
     "status": "ok",
     "timestamp": 1659836647473,
     "user": {
      "displayName": "alan chen",
      "userId": "04205973771808470178"
     },
     "user_tz": -480
    },
    "id": "fC0Xy9-5ONMH",
    "outputId": "73610a24-d07e-4c38-e210-1ddfb5705fa3"
   },
   "outputs": [
    {
     "data": {
      "text/plain": [
       "(2, 3, 8)"
      ]
     },
     "execution_count": 39,
     "metadata": {},
     "output_type": "execute_result"
    }
   ],
   "source": [
    "np.append(a, c, axis=2).shape"
   ]
  },
  {
   "cell_type": "code",
   "execution_count": null,
   "metadata": {
    "colab": {
     "base_uri": "https://localhost:8080/"
    },
    "executionInfo": {
     "elapsed": 72,
     "status": "ok",
     "timestamp": 1659836647473,
     "user": {
      "displayName": "alan chen",
      "userId": "04205973771808470178"
     },
     "user_tz": -480
    },
    "id": "kRoX9gqIONMH",
    "outputId": "27e88e4f-da73-45b8-c6a5-86e623583153"
   },
   "outputs": [
    {
     "data": {
      "text/plain": [
       "array([  0,   1,   2,   3,   4,   5,   6,   7,   8,   9,  10,  11,  12,\n",
       "        13,  14,  15,  16,  17,  18,  19,  20,  21,  22,  23,   3,  13,\n",
       "        23,  33,  43,  53,  63,  73,  83,  93, 103, 113, 123, 133, 143,\n",
       "       153, 163, 173, 183, 193, 203, 213, 223, 233])"
      ]
     },
     "execution_count": 40,
     "metadata": {},
     "output_type": "execute_result"
    }
   ],
   "source": [
    "np.append(a, c) # append to 1-d"
   ]
  },
  {
   "cell_type": "code",
   "execution_count": null,
   "metadata": {
    "colab": {
     "base_uri": "https://localhost:8080/"
    },
    "executionInfo": {
     "elapsed": 68,
     "status": "ok",
     "timestamp": 1659836647473,
     "user": {
      "displayName": "alan chen",
      "userId": "04205973771808470178"
     },
     "user_tz": -480
    },
    "id": "lwk6nM5dONMH",
    "outputId": "d6590915-3cbc-4459-c157-f4d05699171c"
   },
   "outputs": [
    {
     "data": {
      "text/plain": [
       "(48,)"
      ]
     },
     "execution_count": 41,
     "metadata": {},
     "output_type": "execute_result"
    }
   ],
   "source": [
    "np.append(a, c).shape # append to 1-d without specifying axis"
   ]
  },
  {
   "cell_type": "code",
   "execution_count": null,
   "metadata": {
    "colab": {
     "base_uri": "https://localhost:8080/"
    },
    "executionInfo": {
     "elapsed": 65,
     "status": "ok",
     "timestamp": 1659836647474,
     "user": {
      "displayName": "alan chen",
      "userId": "04205973771808470178"
     },
     "user_tz": -480
    },
    "id": "3xPClpKvs4QD",
    "outputId": "958f6985-d77e-4151-d6c0-c8a318d4f6ec"
   },
   "outputs": [
    {
     "data": {
      "text/plain": [
       "array([[ 0,  1,  2,  3],\n",
       "       [ 4,  5,  6,  7],\n",
       "       [ 8,  9, 10, 11]])"
      ]
     },
     "execution_count": 42,
     "metadata": {},
     "output_type": "execute_result"
    }
   ],
   "source": [
    "f = np.arange(0,12).reshape((3,4)) # Exercise\n",
    "f"
   ]
  },
  {
   "cell_type": "code",
   "execution_count": null,
   "metadata": {
    "colab": {
     "base_uri": "https://localhost:8080/"
    },
    "executionInfo": {
     "elapsed": 61,
     "status": "ok",
     "timestamp": 1659836647474,
     "user": {
      "displayName": "alan chen",
      "userId": "04205973771808470178"
     },
     "user_tz": -480
    },
    "id": "wyTpc96is4Eq",
    "outputId": "40f182f8-4ff1-4a8b-d1af-773611593302"
   },
   "outputs": [
    {
     "data": {
      "text/plain": [
       "array([[  5,  15,  25,  35],\n",
       "       [ 45,  55,  65,  75],\n",
       "       [ 85,  95, 105, 115]])"
      ]
     },
     "execution_count": 43,
     "metadata": {},
     "output_type": "execute_result"
    }
   ],
   "source": [
    "g = f * 10 + 5 # Exercise\n",
    "g"
   ]
  },
  {
   "cell_type": "code",
   "execution_count": null,
   "metadata": {
    "colab": {
     "base_uri": "https://localhost:8080/"
    },
    "executionInfo": {
     "elapsed": 58,
     "status": "ok",
     "timestamp": 1659836647474,
     "user": {
      "displayName": "alan chen",
      "userId": "04205973771808470178"
     },
     "user_tz": -480
    },
    "id": "kMKC8Cp4tmra",
    "outputId": "fba543e3-c739-4d85-b831-0539997e3ac6"
   },
   "outputs": [
    {
     "data": {
      "text/plain": [
       "(6, 4)"
      ]
     },
     "execution_count": 44,
     "metadata": {},
     "output_type": "execute_result"
    }
   ],
   "source": [
    "np.append(f, g, axis=0).shape # Exercise"
   ]
  },
  {
   "cell_type": "code",
   "execution_count": null,
   "metadata": {
    "colab": {
     "base_uri": "https://localhost:8080/"
    },
    "executionInfo": {
     "elapsed": 54,
     "status": "ok",
     "timestamp": 1659836647474,
     "user": {
      "displayName": "alan chen",
      "userId": "04205973771808470178"
     },
     "user_tz": -480
    },
    "id": "QfUFeRFqtmn4",
    "outputId": "81059c10-d2f6-4e3b-87df-7ff92092a17a"
   },
   "outputs": [
    {
     "data": {
      "text/plain": [
       "array([[  0,   1,   2,   3],\n",
       "       [  4,   5,   6,   7],\n",
       "       [  8,   9,  10,  11],\n",
       "       [  5,  15,  25,  35],\n",
       "       [ 45,  55,  65,  75],\n",
       "       [ 85,  95, 105, 115]])"
      ]
     },
     "execution_count": 45,
     "metadata": {},
     "output_type": "execute_result"
    }
   ],
   "source": [
    "np.append(f, g, axis=0) # Exercise"
   ]
  },
  {
   "cell_type": "code",
   "execution_count": null,
   "metadata": {
    "colab": {
     "base_uri": "https://localhost:8080/"
    },
    "executionInfo": {
     "elapsed": 51,
     "status": "ok",
     "timestamp": 1659836647475,
     "user": {
      "displayName": "alan chen",
      "userId": "04205973771808470178"
     },
     "user_tz": -480
    },
    "id": "rS1L0qnitmku",
    "outputId": "c923cc64-1c60-47b0-f879-f3940d7cd24b"
   },
   "outputs": [
    {
     "data": {
      "text/plain": [
       "(3, 8)"
      ]
     },
     "execution_count": 46,
     "metadata": {},
     "output_type": "execute_result"
    }
   ],
   "source": [
    "np.append(f, g, axis=1).shape # Exercise"
   ]
  },
  {
   "cell_type": "code",
   "execution_count": null,
   "metadata": {
    "colab": {
     "base_uri": "https://localhost:8080/"
    },
    "executionInfo": {
     "elapsed": 47,
     "status": "ok",
     "timestamp": 1659836647475,
     "user": {
      "displayName": "alan chen",
      "userId": "04205973771808470178"
     },
     "user_tz": -480
    },
    "id": "szDQ8A7Ks3xe",
    "outputId": "3152ed2c-4b62-4bb1-e459-399937502890"
   },
   "outputs": [
    {
     "data": {
      "text/plain": [
       "array([[  0,   1,   2,   3,   5,  15,  25,  35],\n",
       "       [  4,   5,   6,   7,  45,  55,  65,  75],\n",
       "       [  8,   9,  10,  11,  85,  95, 105, 115]])"
      ]
     },
     "execution_count": 47,
     "metadata": {},
     "output_type": "execute_result"
    }
   ],
   "source": [
    "np.append(f, g, axis=1) # Exercise"
   ]
  },
  {
   "cell_type": "code",
   "execution_count": null,
   "metadata": {
    "colab": {
     "base_uri": "https://localhost:8080/"
    },
    "executionInfo": {
     "elapsed": 43,
     "status": "ok",
     "timestamp": 1659836647475,
     "user": {
      "displayName": "alan chen",
      "userId": "04205973771808470178"
     },
     "user_tz": -480
    },
    "id": "R9OZWS1CQDyr",
    "outputId": "1d3149c7-c5bf-43b7-a9a0-781ad8181d39"
   },
   "outputs": [
    {
     "data": {
      "text/plain": [
       "array([[[  3,  13,  23,  33],\n",
       "        [ 43,  53,  63,  73],\n",
       "        [ 83,  93, 103, 113]],\n",
       "\n",
       "       [[123, 133, 143, 153],\n",
       "        [163, 173, 183, 193],\n",
       "        [203, 213, 223, 233]]])"
      ]
     },
     "execution_count": 48,
     "metadata": {},
     "output_type": "execute_result"
    }
   ],
   "source": [
    "c"
   ]
  },
  {
   "cell_type": "code",
   "execution_count": null,
   "metadata": {
    "colab": {
     "base_uri": "https://localhost:8080/"
    },
    "executionInfo": {
     "elapsed": 40,
     "status": "ok",
     "timestamp": 1659836647475,
     "user": {
      "displayName": "alan chen",
      "userId": "04205973771808470178"
     },
     "user_tz": -480
    },
    "id": "Gji8KD3t2hFz",
    "outputId": "8ab55438-8865-4a4f-f03e-bca36b68bb07"
   },
   "outputs": [
    {
     "data": {
      "text/plain": [
       "(2, 3, 4)"
      ]
     },
     "execution_count": 49,
     "metadata": {},
     "output_type": "execute_result"
    }
   ],
   "source": [
    "c.shape"
   ]
  },
  {
   "cell_type": "code",
   "execution_count": null,
   "metadata": {
    "ExecuteTime": {
     "end_time": "2019-12-21T18:02:06.133108Z",
     "start_time": "2019-12-21T18:02:05.995641Z"
    },
    "colab": {
     "base_uri": "https://localhost:8080/"
    },
    "executionInfo": {
     "elapsed": 37,
     "status": "ok",
     "timestamp": 1659836647476,
     "user": {
      "displayName": "alan chen",
      "userId": "04205973771808470178"
     },
     "user_tz": -480
    },
    "id": "IklYs9IfONMH",
    "outputId": "35821ae3-b269-4b58-f29b-3ff964451ce2"
   },
   "outputs": [
    {
     "data": {
      "text/plain": [
       "array([[[  3,  13,  23,  33],\n",
       "        [ 43,  53,  63,  73],\n",
       "        [ 83,  93, 103, 113]],\n",
       "\n",
       "       [[444, 444, 444, 444],\n",
       "        [444, 444, 444, 444],\n",
       "        [444, 444, 444, 444]],\n",
       "\n",
       "       [[123, 133, 143, 153],\n",
       "        [163, 173, 183, 193],\n",
       "        [203, 213, 223, 233]]])"
      ]
     },
     "execution_count": 50,
     "metadata": {},
     "output_type": "execute_result"
    }
   ],
   "source": [
    "after_insert_array = np.insert(c, 1, 444, axis=0) # 0axis 1位置 略\n",
    "after_insert_array"
   ]
  },
  {
   "cell_type": "code",
   "execution_count": null,
   "metadata": {
    "ExecuteTime": {
     "end_time": "2019-12-21T18:02:06.278042Z",
     "start_time": "2019-12-21T18:02:06.134090Z"
    },
    "colab": {
     "base_uri": "https://localhost:8080/"
    },
    "executionInfo": {
     "elapsed": 34,
     "status": "ok",
     "timestamp": 1659836647476,
     "user": {
      "displayName": "alan chen",
      "userId": "04205973771808470178"
     },
     "user_tz": -480
    },
    "id": "x6mYAI5sONMH",
    "outputId": "c565fb99-1e6e-474f-86c7-c75f11620af6"
   },
   "outputs": [
    {
     "data": {
      "text/plain": [
       "array([[[  3,  13,  23,  33],\n",
       "        [444, 444, 444, 444],\n",
       "        [ 43,  53,  63,  73],\n",
       "        [ 83,  93, 103, 113]],\n",
       "\n",
       "       [[123, 133, 143, 153],\n",
       "        [444, 444, 444, 444],\n",
       "        [163, 173, 183, 193],\n",
       "        [203, 213, 223, 233]]])"
      ]
     },
     "execution_count": 51,
     "metadata": {},
     "output_type": "execute_result"
    }
   ],
   "source": [
    "after_insert_array = np.insert(c, 1, 444, axis=1)\n",
    "after_insert_array"
   ]
  },
  {
   "cell_type": "code",
   "execution_count": null,
   "metadata": {
    "ExecuteTime": {
     "end_time": "2019-12-21T18:02:06.453763Z",
     "start_time": "2019-12-21T18:02:06.281050Z"
    },
    "colab": {
     "base_uri": "https://localhost:8080/"
    },
    "executionInfo": {
     "elapsed": 31,
     "status": "ok",
     "timestamp": 1659836647476,
     "user": {
      "displayName": "alan chen",
      "userId": "04205973771808470178"
     },
     "user_tz": -480
    },
    "id": "68rZOHzyONMI",
    "outputId": "b7dbda70-5ee2-4417-86bc-ab5e46f024ac"
   },
   "outputs": [
    {
     "data": {
      "text/plain": [
       "array([[[  3, 444,  13,  23,  33],\n",
       "        [ 43, 444,  53,  63,  73],\n",
       "        [ 83, 444,  93, 103, 113]],\n",
       "\n",
       "       [[123, 444, 133, 143, 153],\n",
       "        [163, 444, 173, 183, 193],\n",
       "        [203, 444, 213, 223, 233]]])"
      ]
     },
     "execution_count": 52,
     "metadata": {},
     "output_type": "execute_result"
    }
   ],
   "source": [
    "after_insert_array = np.insert(c, 1, 444, axis=2)\n",
    "after_insert_array"
   ]
  },
  {
   "cell_type": "code",
   "execution_count": null,
   "metadata": {
    "colab": {
     "base_uri": "https://localhost:8080/"
    },
    "executionInfo": {
     "elapsed": 27,
     "status": "ok",
     "timestamp": 1659836647476,
     "user": {
      "displayName": "alan chen",
      "userId": "04205973771808470178"
     },
     "user_tz": -480
    },
    "id": "ET2yG8_YzgnU",
    "outputId": "e99a573d-4394-43a8-ecde-b4fec16ff553"
   },
   "outputs": [
    {
     "data": {
      "text/plain": [
       "array([[[  3,  13,  23,  33],\n",
       "        [ 43,  53,  63,  73],\n",
       "        [ 83,  93, 103, 113]],\n",
       "\n",
       "       [[123, 133, 143, 153],\n",
       "        [163, 173, 183, 193],\n",
       "        [203, 213, 223, 233]]])"
      ]
     },
     "execution_count": 53,
     "metadata": {},
     "output_type": "execute_result"
    }
   ],
   "source": [
    "c"
   ]
  },
  {
   "cell_type": "code",
   "execution_count": null,
   "metadata": {
    "ExecuteTime": {
     "end_time": "2019-12-21T18:02:06.638027Z",
     "start_time": "2019-12-21T18:02:06.454724Z"
    },
    "colab": {
     "base_uri": "https://localhost:8080/"
    },
    "executionInfo": {
     "elapsed": 25,
     "status": "ok",
     "timestamp": 1659836647477,
     "user": {
      "displayName": "alan chen",
      "userId": "04205973771808470178"
     },
     "user_tz": -480
    },
    "id": "lTLVYiQ4ONMI",
    "outputId": "2ab604be-fb60-4b35-e880-4fb6f6e98bfa"
   },
   "outputs": [
    {
     "data": {
      "text/plain": [
       "array([[[  3.,  13.,  23.,  33.],\n",
       "        [ 43.,  53.,  63.,  73.],\n",
       "        [ 83.,  93., 103., 113.]],\n",
       "\n",
       "       [[123., 133., 143., 153.],\n",
       "        [163., 173., 183., 193.],\n",
       "        [203., 213., 223., 233.]]])"
      ]
     },
     "execution_count": 54,
     "metadata": {},
     "output_type": "execute_result"
    }
   ],
   "source": [
    "d = np.empty(c.shape) # d = np.empty((2, 3, 4))\n",
    "np.copyto(d, c)\n",
    "d # d = np.copy(c)"
   ]
  },
  {
   "cell_type": "code",
   "execution_count": null,
   "metadata": {
    "ExecuteTime": {
     "end_time": "2019-12-21T18:02:06.811997Z",
     "start_time": "2019-12-21T18:02:06.642017Z"
    },
    "colab": {
     "base_uri": "https://localhost:8080/"
    },
    "executionInfo": {
     "elapsed": 21,
     "status": "ok",
     "timestamp": 1659836647477,
     "user": {
      "displayName": "alan chen",
      "userId": "04205973771808470178"
     },
     "user_tz": -480
    },
    "id": "uzAq_1hFONMI",
    "outputId": "801aba48-8bb2-4bab-97de-2dc5430e5294"
   },
   "outputs": [
    {
     "data": {
      "text/plain": [
       "array([[[  3.,  13.,  23.,  33.],\n",
       "        [ 43.,  53.,  63.,  73.],\n",
       "        [ 83.,  93., 103., 113.]]])"
      ]
     },
     "execution_count": 55,
     "metadata": {},
     "output_type": "execute_result"
    }
   ],
   "source": [
    "np.delete(d, 1, axis=0)"
   ]
  },
  {
   "cell_type": "code",
   "execution_count": null,
   "metadata": {
    "colab": {
     "base_uri": "https://localhost:8080/"
    },
    "executionInfo": {
     "elapsed": 17,
     "status": "ok",
     "timestamp": 1659836647477,
     "user": {
      "displayName": "alan chen",
      "userId": "04205973771808470178"
     },
     "user_tz": -480
    },
    "id": "kZlsx4rs4xhA",
    "outputId": "c157e205-6907-4d8d-ec12-772b52dfdcc0"
   },
   "outputs": [
    {
     "data": {
      "text/plain": [
       "array([[[  3.,  13.,  23.,  33.],\n",
       "        [ 43.,  53.,  63.,  73.],\n",
       "        [ 83.,  93., 103., 113.]],\n",
       "\n",
       "       [[123., 133., 143., 153.],\n",
       "        [163., 173., 183., 193.],\n",
       "        [203., 213., 223., 233.]]])"
      ]
     },
     "execution_count": 56,
     "metadata": {},
     "output_type": "execute_result"
    }
   ],
   "source": [
    "d"
   ]
  },
  {
   "cell_type": "code",
   "execution_count": null,
   "metadata": {
    "ExecuteTime": {
     "end_time": "2019-12-21T18:02:06.949593Z",
     "start_time": "2019-12-21T18:02:06.817940Z"
    },
    "colab": {
     "base_uri": "https://localhost:8080/"
    },
    "executionInfo": {
     "elapsed": 15,
     "status": "ok",
     "timestamp": 1659836647478,
     "user": {
      "displayName": "alan chen",
      "userId": "04205973771808470178"
     },
     "user_tz": -480
    },
    "id": "ZpZqDzfqONMI",
    "outputId": "27d87682-37a2-481a-82f6-d62bbcd16ee1"
   },
   "outputs": [
    {
     "data": {
      "text/plain": [
       "array([[[  3.,  13.,  23.,  33.],\n",
       "        [ 83.,  93., 103., 113.]],\n",
       "\n",
       "       [[123., 133., 143., 153.],\n",
       "        [203., 213., 223., 233.]]])"
      ]
     },
     "execution_count": 57,
     "metadata": {},
     "output_type": "execute_result"
    }
   ],
   "source": [
    "np.delete(d, 1, axis=1)"
   ]
  },
  {
   "cell_type": "code",
   "execution_count": null,
   "metadata": {
    "colab": {
     "base_uri": "https://localhost:8080/"
    },
    "executionInfo": {
     "elapsed": 425,
     "status": "ok",
     "timestamp": 1659836647892,
     "user": {
      "displayName": "alan chen",
      "userId": "04205973771808470178"
     },
     "user_tz": -480
    },
    "id": "dcTZbAd95K6E",
    "outputId": "c1567529-9326-45cc-b119-4039499f8705"
   },
   "outputs": [
    {
     "data": {
      "text/plain": [
       "array([[[  3.,  13.,  23.,  33.],\n",
       "        [ 43.,  53.,  63.,  73.],\n",
       "        [ 83.,  93., 103., 113.]],\n",
       "\n",
       "       [[123., 133., 143., 153.],\n",
       "        [163., 173., 183., 193.],\n",
       "        [203., 213., 223., 233.]]])"
      ]
     },
     "execution_count": 58,
     "metadata": {},
     "output_type": "execute_result"
    }
   ],
   "source": [
    "d"
   ]
  },
  {
   "cell_type": "code",
   "execution_count": null,
   "metadata": {
    "ExecuteTime": {
     "end_time": "2019-12-21T18:02:07.106290Z",
     "start_time": "2019-12-21T18:02:06.950629Z"
    },
    "colab": {
     "base_uri": "https://localhost:8080/"
    },
    "executionInfo": {
     "elapsed": 94,
     "status": "ok",
     "timestamp": 1659836647893,
     "user": {
      "displayName": "alan chen",
      "userId": "04205973771808470178"
     },
     "user_tz": -480
    },
    "id": "NRw63AGfONMI",
    "outputId": "325cee18-967c-41cc-df17-b5bdcf3a211c"
   },
   "outputs": [
    {
     "data": {
      "text/plain": [
       "array([[[  3.,  23.,  33.],\n",
       "        [ 43.,  63.,  73.],\n",
       "        [ 83., 103., 113.]],\n",
       "\n",
       "       [[123., 143., 153.],\n",
       "        [163., 183., 193.],\n",
       "        [203., 223., 233.]]])"
      ]
     },
     "execution_count": 59,
     "metadata": {},
     "output_type": "execute_result"
    }
   ],
   "source": [
    "e = np.delete(d, 1, axis=2)\n",
    "e"
   ]
  },
  {
   "cell_type": "code",
   "execution_count": null,
   "metadata": {
    "colab": {
     "base_uri": "https://localhost:8080/"
    },
    "executionInfo": {
     "elapsed": 90,
     "status": "ok",
     "timestamp": 1659836647893,
     "user": {
      "displayName": "alan chen",
      "userId": "04205973771808470178"
     },
     "user_tz": -480
    },
    "id": "c8vESG2kzkn0",
    "outputId": "1c333308-a59f-42f5-f30c-ab75583e5f47"
   },
   "outputs": [
    {
     "data": {
      "text/plain": [
       "array([[[  3.,  13.,  23.,  33.],\n",
       "        [ 43.,  53.,  63.,  73.],\n",
       "        [ 83.,  93., 103., 113.]],\n",
       "\n",
       "       [[123., 133., 143., 153.],\n",
       "        [163., 173., 183., 193.],\n",
       "        [203., 213., 223., 233.]]])"
      ]
     },
     "execution_count": 60,
     "metadata": {},
     "output_type": "execute_result"
    }
   ],
   "source": [
    "d"
   ]
  },
  {
   "cell_type": "markdown",
   "metadata": {
    "id": "dYAA81lfONMI"
   },
   "source": [
    "## Accessing/Changing specific elements, rows, columns, etc"
   ]
  },
  {
   "cell_type": "code",
   "execution_count": null,
   "metadata": {
    "ExecuteTime": {
     "end_time": "2019-12-21T18:02:07.260785Z",
     "start_time": "2019-12-21T18:02:07.111222Z"
    },
    "colab": {
     "base_uri": "https://localhost:8080/"
    },
    "executionInfo": {
     "elapsed": 87,
     "status": "ok",
     "timestamp": 1659836647894,
     "user": {
      "displayName": "alan chen",
      "userId": "04205973771808470178"
     },
     "user_tz": -480
    },
    "id": "M9a0aMAjONMI",
    "outputId": "d52c8780-281f-4b4f-fc4f-63502e5b0c4d"
   },
   "outputs": [
    {
     "name": "stdout",
     "output_type": "stream",
     "text": [
      "[[ 1  2  3  4  5  6  7]\n",
      " [ 8  9 10 11 12 13 14]]\n",
      "(2, 7)\n"
     ]
    }
   ],
   "source": [
    "a = np.array([[1,2, 3, 4, 5, 6, 7], [8, 9, 10, 11, 12, 13, 14]])\n",
    "print(a)\n",
    "print(a.shape)"
   ]
  },
  {
   "cell_type": "code",
   "execution_count": null,
   "metadata": {
    "colab": {
     "base_uri": "https://localhost:8080/"
    },
    "executionInfo": {
     "elapsed": 83,
     "status": "ok",
     "timestamp": 1659836647894,
     "user": {
      "displayName": "alan chen",
      "userId": "04205973771808470178"
     },
     "user_tz": -480
    },
    "id": "AwScqLJcdadx",
    "outputId": "224a6375-09cf-4205-a228-1dc9b396129b"
   },
   "outputs": [
    {
     "data": {
      "text/plain": [
       "array([ 8,  9, 10, 11, 12, 13, 14])"
      ]
     },
     "execution_count": 62,
     "metadata": {},
     "output_type": "execute_result"
    }
   ],
   "source": [
    "a[1]"
   ]
  },
  {
   "cell_type": "code",
   "execution_count": null,
   "metadata": {
    "colab": {
     "base_uri": "https://localhost:8080/"
    },
    "executionInfo": {
     "elapsed": 81,
     "status": "ok",
     "timestamp": 1659836647895,
     "user": {
      "displayName": "alan chen",
      "userId": "04205973771808470178"
     },
     "user_tz": -480
    },
    "id": "ZO_JEvGudaCB",
    "outputId": "9fbf27d2-d559-4da0-ae51-4f949f02cffd"
   },
   "outputs": [
    {
     "data": {
      "text/plain": [
       "10"
      ]
     },
     "execution_count": 63,
     "metadata": {},
     "output_type": "execute_result"
    }
   ],
   "source": [
    "a[1][2]"
   ]
  },
  {
   "cell_type": "code",
   "execution_count": null,
   "metadata": {
    "ExecuteTime": {
     "end_time": "2019-12-21T18:02:07.385959Z",
     "start_time": "2019-12-21T18:02:07.264201Z"
    },
    "colab": {
     "base_uri": "https://localhost:8080/"
    },
    "executionInfo": {
     "elapsed": 77,
     "status": "ok",
     "timestamp": 1659836647895,
     "user": {
      "displayName": "alan chen",
      "userId": "04205973771808470178"
     },
     "user_tz": -480
    },
    "id": "s9-387u4ONMI",
    "outputId": "46ca7622-a60e-4612-b7dd-01fa22116047"
   },
   "outputs": [
    {
     "name": "stdout",
     "output_type": "stream",
     "text": [
      "13\n",
      "13\n",
      "13\n"
     ]
    }
   ],
   "source": [
    "# get a specific element [r, c]\n",
    "print(a[1, 5])\n",
    "print(a[1][5])\n",
    "print(a[1][-2])"
   ]
  },
  {
   "cell_type": "code",
   "execution_count": null,
   "metadata": {
    "colab": {
     "base_uri": "https://localhost:8080/"
    },
    "executionInfo": {
     "elapsed": 75,
     "status": "ok",
     "timestamp": 1659836647896,
     "user": {
      "displayName": "alan chen",
      "userId": "04205973771808470178"
     },
     "user_tz": -480
    },
    "id": "lqfQoEcW71zo",
    "outputId": "16387e0f-0bbb-4530-84e3-92e52a4319a1"
   },
   "outputs": [
    {
     "data": {
      "text/plain": [
       "array([[ 1,  2,  3,  4,  5,  6,  7],\n",
       "       [ 8,  9, 10, 11, 12, 13, 14]])"
      ]
     },
     "execution_count": 65,
     "metadata": {},
     "output_type": "execute_result"
    }
   ],
   "source": [
    "a"
   ]
  },
  {
   "cell_type": "code",
   "execution_count": null,
   "metadata": {
    "ExecuteTime": {
     "end_time": "2019-12-21T18:02:07.516199Z",
     "start_time": "2019-12-21T18:02:07.386955Z"
    },
    "colab": {
     "base_uri": "https://localhost:8080/"
    },
    "executionInfo": {
     "elapsed": 71,
     "status": "ok",
     "timestamp": 1659836647896,
     "user": {
      "displayName": "alan chen",
      "userId": "04205973771808470178"
     },
     "user_tz": -480
    },
    "id": "1TajSOmlONMI",
    "outputId": "ca21217c-e42d-46b1-9ea9-455d48012242"
   },
   "outputs": [
    {
     "data": {
      "text/plain": [
       "array([1, 2, 3, 4, 5, 6, 7])"
      ]
     },
     "execution_count": 66,
     "metadata": {},
     "output_type": "execute_result"
    }
   ],
   "source": [
    "#  get a specific row\n",
    "a[0, :] # a[0]"
   ]
  },
  {
   "cell_type": "code",
   "execution_count": null,
   "metadata": {
    "ExecuteTime": {
     "end_time": "2019-12-21T18:02:07.657736Z",
     "start_time": "2019-12-21T18:02:07.517200Z"
    },
    "colab": {
     "base_uri": "https://localhost:8080/"
    },
    "executionInfo": {
     "elapsed": 68,
     "status": "ok",
     "timestamp": 1659836647897,
     "user": {
      "displayName": "alan chen",
      "userId": "04205973771808470178"
     },
     "user_tz": -480
    },
    "id": "1VtnvU1uONMI",
    "outputId": "c7a9cdd6-78c4-4504-aa01-2585e1806926"
   },
   "outputs": [
    {
     "data": {
      "text/plain": [
       "array([ 3, 10])"
      ]
     },
     "execution_count": 67,
     "metadata": {},
     "output_type": "execute_result"
    }
   ],
   "source": [
    "# get a specific col\n",
    "a[:, 2]"
   ]
  },
  {
   "cell_type": "code",
   "execution_count": null,
   "metadata": {
    "colab": {
     "base_uri": "https://localhost:8080/"
    },
    "executionInfo": {
     "elapsed": 65,
     "status": "ok",
     "timestamp": 1659836647897,
     "user": {
      "displayName": "alan chen",
      "userId": "04205973771808470178"
     },
     "user_tz": -480
    },
    "id": "6-tA1eOk8S1R",
    "outputId": "b494b2d3-1552-470b-f134-5795284acf7c"
   },
   "outputs": [
    {
     "data": {
      "text/plain": [
       "array([[ 1,  2,  3,  4,  5,  6,  7],\n",
       "       [ 8,  9, 10, 11, 12, 13, 14]])"
      ]
     },
     "execution_count": 68,
     "metadata": {},
     "output_type": "execute_result"
    }
   ],
   "source": [
    "a"
   ]
  },
  {
   "cell_type": "code",
   "execution_count": null,
   "metadata": {
    "ExecuteTime": {
     "end_time": "2019-12-21T18:02:07.793423Z",
     "start_time": "2019-12-21T18:02:07.660726Z"
    },
    "colab": {
     "base_uri": "https://localhost:8080/"
    },
    "executionInfo": {
     "elapsed": 62,
     "status": "ok",
     "timestamp": 1659836647897,
     "user": {
      "displayName": "alan chen",
      "userId": "04205973771808470178"
     },
     "user_tz": -480
    },
    "id": "8JZL9uDeONMI",
    "outputId": "c915545f-9bc7-4a70-f932-83b63c37cdba"
   },
   "outputs": [
    {
     "data": {
      "text/plain": [
       "array([2, 4, 6])"
      ]
     },
     "execution_count": 69,
     "metadata": {},
     "output_type": "execute_result"
    }
   ],
   "source": [
    "# getting fancy [startindex: endindex: stepsize] endindex not included\n",
    "a[0, 1:6:2]"
   ]
  },
  {
   "cell_type": "code",
   "execution_count": null,
   "metadata": {
    "colab": {
     "base_uri": "https://localhost:8080/"
    },
    "executionInfo": {
     "elapsed": 59,
     "status": "ok",
     "timestamp": 1659836647898,
     "user": {
      "displayName": "alan chen",
      "userId": "04205973771808470178"
     },
     "user_tz": -480
    },
    "id": "VbC8G5IN2ztP",
    "outputId": "2ee76b1c-a5c7-4c0f-f9e9-8c7bb2899373"
   },
   "outputs": [
    {
     "data": {
      "text/plain": [
       "array([ 9, 10, 11, 12, 13])"
      ]
     },
     "execution_count": 70,
     "metadata": {},
     "output_type": "execute_result"
    }
   ],
   "source": [
    "a[1, 1:6:1]"
   ]
  },
  {
   "cell_type": "code",
   "execution_count": null,
   "metadata": {
    "colab": {
     "base_uri": "https://localhost:8080/"
    },
    "executionInfo": {
     "elapsed": 54,
     "status": "ok",
     "timestamp": 1659836647898,
     "user": {
      "displayName": "alan chen",
      "userId": "04205973771808470178"
     },
     "user_tz": -480
    },
    "id": "0WePmWwN8zQL",
    "outputId": "04ed4996-c3f1-47f8-aa50-40a0282d6086"
   },
   "outputs": [
    {
     "data": {
      "text/plain": [
       "array([[ 1,  2,  3,  4,  5,  6,  7],\n",
       "       [ 8,  9, 10, 11, 12, 13, 14]])"
      ]
     },
     "execution_count": 71,
     "metadata": {},
     "output_type": "execute_result"
    }
   ],
   "source": [
    "a"
   ]
  },
  {
   "cell_type": "code",
   "execution_count": null,
   "metadata": {
    "ExecuteTime": {
     "end_time": "2019-12-21T18:02:07.950546Z",
     "start_time": "2019-12-21T18:02:07.795403Z"
    },
    "colab": {
     "base_uri": "https://localhost:8080/"
    },
    "executionInfo": {
     "elapsed": 52,
     "status": "ok",
     "timestamp": 1659836647899,
     "user": {
      "displayName": "alan chen",
      "userId": "04205973771808470178"
     },
     "user_tz": -480
    },
    "id": "OKcyh2j9ONMI",
    "outputId": "6ea925b8-0ac1-44ca-ddda-c68b8b47e1b1"
   },
   "outputs": [
    {
     "name": "stdout",
     "output_type": "stream",
     "text": [
      "[[ 1  2  3  4  5  6  7]\n",
      " [ 8  9 10 11 12 20 14]]\n",
      "-----\n",
      "[[ 1  2  5  4  5  6  7]\n",
      " [ 8  9  5 11 12 20 14]]\n",
      "-----\n",
      "[[ 1  2  1  4  5  6  7]\n",
      " [ 8  9  2 11 12 20 14]]\n"
     ]
    }
   ],
   "source": [
    "# changing element(s)\n",
    "a [1, 5] = 20\n",
    "print(a)\n",
    "print('-----')\n",
    "a[:, 2] = 5\n",
    "print(a)\n",
    "print('-----')\n",
    "a[:, 2] = [1, 2]\n",
    "print(a)"
   ]
  },
  {
   "cell_type": "code",
   "execution_count": null,
   "metadata": {
    "ExecuteTime": {
     "end_time": "2019-12-21T18:02:08.126714Z",
     "start_time": "2019-12-21T18:02:07.951544Z"
    },
    "colab": {
     "base_uri": "https://localhost:8080/"
    },
    "executionInfo": {
     "elapsed": 48,
     "status": "ok",
     "timestamp": 1659836647899,
     "user": {
      "displayName": "alan chen",
      "userId": "04205973771808470178"
     },
     "user_tz": -480
    },
    "id": "6dHWPvL2ONMI",
    "outputId": "a947c01f-aa17-4cfb-ab13-49d43ece706e"
   },
   "outputs": [
    {
     "name": "stdout",
     "output_type": "stream",
     "text": [
      "[[[1 2]\n",
      "  [3 4]]\n",
      "\n",
      " [[5 6]\n",
      "  [7 8]]]\n",
      "------\n",
      "(2, 2, 2)\n"
     ]
    }
   ],
   "source": [
    "# 3-d\n",
    "a = np.array([[[1, 2], [3, 4]], [[5, 6], [7, 8]]])\n",
    "print(a)\n",
    "print('------')\n",
    "print(a.shape)\n",
    "\n",
    "# think of number of rows as original number of rows\n",
    "# inside each box columns become rows and depth becomes columns\n",
    "# think of it as [1, 2] at at position a[0, 0]\n",
    "\n",
    "# NumPy’s order for printing n-dimensional arrays is that the last axis\n",
    "# is looped over the fastest, while the first is the slowest"
   ]
  },
  {
   "cell_type": "code",
   "execution_count": null,
   "metadata": {
    "ExecuteTime": {
     "end_time": "2019-12-21T18:02:08.310885Z",
     "start_time": "2019-12-21T18:02:08.127711Z"
    },
    "colab": {
     "base_uri": "https://localhost:8080/"
    },
    "executionInfo": {
     "elapsed": 45,
     "status": "ok",
     "timestamp": 1659836647899,
     "user": {
      "displayName": "alan chen",
      "userId": "04205973771808470178"
     },
     "user_tz": -480
    },
    "id": "jN-OUYDaONMI",
    "outputId": "a293e46a-471f-4c38-e4ee-7dd09dbdc528"
   },
   "outputs": [
    {
     "name": "stdout",
     "output_type": "stream",
     "text": [
      "[1 2]\n",
      "[3 4]\n",
      "[5 6]\n",
      "[7 8]\n",
      "4\n"
     ]
    }
   ],
   "source": [
    "print(a[0, 0]) # = a[0, 0, :]\n",
    "print(a[0, 1])\n",
    "print(a[1, 0])\n",
    "print(a[1, 1])\n",
    "\n",
    "# get specific element\n",
    "print(a[0,1,1])"
   ]
  },
  {
   "cell_type": "code",
   "execution_count": null,
   "metadata": {
    "colab": {
     "base_uri": "https://localhost:8080/"
    },
    "executionInfo": {
     "elapsed": 42,
     "status": "ok",
     "timestamp": 1659836647900,
     "user": {
      "displayName": "alan chen",
      "userId": "04205973771808470178"
     },
     "user_tz": -480
    },
    "id": "CHLCWtgG4QjL",
    "outputId": "1af50747-3285-4a8d-fae4-bb8c870904fd"
   },
   "outputs": [
    {
     "data": {
      "text/plain": [
       "array([[[1, 2],\n",
       "        [3, 4]],\n",
       "\n",
       "       [[5, 6],\n",
       "        [7, 8]]])"
      ]
     },
     "execution_count": 75,
     "metadata": {},
     "output_type": "execute_result"
    }
   ],
   "source": [
    "a"
   ]
  },
  {
   "cell_type": "code",
   "execution_count": null,
   "metadata": {
    "ExecuteTime": {
     "end_time": "2019-12-21T18:02:08.492602Z",
     "start_time": "2019-12-21T18:02:08.313845Z"
    },
    "colab": {
     "base_uri": "https://localhost:8080/"
    },
    "executionInfo": {
     "elapsed": 39,
     "status": "ok",
     "timestamp": 1659836647900,
     "user": {
      "displayName": "alan chen",
      "userId": "04205973771808470178"
     },
     "user_tz": -480
    },
    "id": "RiN6-tgSONMI",
    "outputId": "c46c7b10-a05b-4069-d89f-60fc9656b14c"
   },
   "outputs": [
    {
     "name": "stdout",
     "output_type": "stream",
     "text": [
      "[[[ 1  2]\n",
      "  [10 11]]\n",
      "\n",
      " [[ 5  6]\n",
      "  [12 13]]]\n",
      "-----\n",
      "[[[ 1  2]\n",
      "  [99 98]]\n",
      "\n",
      " [[ 5  6]\n",
      "  [12 13]]]\n"
     ]
    }
   ],
   "source": [
    "# replace # Exercise\n",
    "\n",
    "a[:, 1, :] = [[10, 11], [12, 13]]\n",
    "print(a)\n",
    "print('-----')\n",
    "\n",
    "# a[0, 1, :] = [99, 98]\n",
    "a[0, 1] = [99, 98]\n",
    "print(a)"
   ]
  },
  {
   "cell_type": "markdown",
   "metadata": {
    "ExecuteTime": {
     "end_time": "2019-12-20T14:39:58.976557Z",
     "start_time": "2019-12-20T14:39:58.971570Z"
    },
    "id": "iuQ1LYLGONMI"
   },
   "source": [
    "## Initializing different type of arrays"
   ]
  },
  {
   "cell_type": "code",
   "execution_count": null,
   "metadata": {
    "ExecuteTime": {
     "end_time": "2019-12-21T18:02:08.637216Z",
     "start_time": "2019-12-21T18:02:08.496631Z"
    },
    "colab": {
     "base_uri": "https://localhost:8080/"
    },
    "executionInfo": {
     "elapsed": 35,
     "status": "ok",
     "timestamp": 1659836647900,
     "user": {
      "displayName": "alan chen",
      "userId": "04205973771808470178"
     },
     "user_tz": -480
    },
    "id": "eo1l5uuvONMI",
    "outputId": "7c7a4861-5025-44e8-f993-6eae9a244df8"
   },
   "outputs": [
    {
     "data": {
      "text/plain": [
       "array([[0., 0., 0.],\n",
       "       [0., 0., 0.]])"
      ]
     },
     "execution_count": 77,
     "metadata": {},
     "output_type": "execute_result"
    }
   ],
   "source": [
    "# all 0's matrix\n",
    "np.zeros(shape=(2, 3))"
   ]
  },
  {
   "cell_type": "code",
   "execution_count": null,
   "metadata": {
    "ExecuteTime": {
     "end_time": "2019-12-21T18:02:08.771011Z",
     "start_time": "2019-12-21T18:02:08.639209Z"
    },
    "colab": {
     "base_uri": "https://localhost:8080/"
    },
    "executionInfo": {
     "elapsed": 32,
     "status": "ok",
     "timestamp": 1659836647901,
     "user": {
      "displayName": "alan chen",
      "userId": "04205973771808470178"
     },
     "user_tz": -480
    },
    "id": "CYvkyA6DONMI",
    "outputId": "7b7051a0-0d99-4f2c-9d95-18a4cdf08c02"
   },
   "outputs": [
    {
     "data": {
      "text/plain": [
       "array([[[1, 1],\n",
       "        [1, 1]],\n",
       "\n",
       "       [[1, 1],\n",
       "        [1, 1]],\n",
       "\n",
       "       [[1, 1],\n",
       "        [1, 1]],\n",
       "\n",
       "       [[1, 1],\n",
       "        [1, 1]]], dtype=int32)"
      ]
     },
     "execution_count": 78,
     "metadata": {},
     "output_type": "execute_result"
    }
   ],
   "source": [
    "# all 1's matrix\n",
    "np.ones((4, 2, 2), dtype='int32')"
   ]
  },
  {
   "cell_type": "code",
   "execution_count": null,
   "metadata": {
    "ExecuteTime": {
     "end_time": "2019-12-21T18:02:08.898448Z",
     "start_time": "2019-12-21T18:02:08.772009Z"
    },
    "colab": {
     "base_uri": "https://localhost:8080/"
    },
    "executionInfo": {
     "elapsed": 29,
     "status": "ok",
     "timestamp": 1659836647901,
     "user": {
      "displayName": "alan chen",
      "userId": "04205973771808470178"
     },
     "user_tz": -480
    },
    "id": "YHgJKQ8mONMI",
    "outputId": "3a4fc4c6-3e80-4eda-c145-005a61875af2"
   },
   "outputs": [
    {
     "data": {
      "text/plain": [
       "array([[99, 99],\n",
       "       [99, 99]])"
      ]
     },
     "execution_count": 79,
     "metadata": {},
     "output_type": "execute_result"
    }
   ],
   "source": [
    "# any other number\n",
    "np.full((2, 2), 99)"
   ]
  },
  {
   "cell_type": "code",
   "execution_count": null,
   "metadata": {
    "ExecuteTime": {
     "end_time": "2019-12-21T18:02:09.038073Z",
     "start_time": "2019-12-21T18:02:08.899445Z"
    },
    "colab": {
     "base_uri": "https://localhost:8080/"
    },
    "executionInfo": {
     "elapsed": 25,
     "status": "ok",
     "timestamp": 1659836647901,
     "user": {
      "displayName": "alan chen",
      "userId": "04205973771808470178"
     },
     "user_tz": -480
    },
    "id": "lyNnN9tqONMI",
    "outputId": "b31bd65a-d70a-4da4-c225-ff82ba9d065f"
   },
   "outputs": [
    {
     "data": {
      "text/plain": [
       "array([[8, 8, 8, 8, 8, 8, 8],\n",
       "       [8, 8, 8, 8, 8, 8, 8]])"
      ]
     },
     "execution_count": 80,
     "metadata": {},
     "output_type": "execute_result"
    }
   ],
   "source": [
    "# any other number (full_like)\n",
    "a = np.array([[1, 2, 3, 4, 5, 6, 7], [8, 9, 10, 11, 12, 13, 14]])\n",
    "np.full_like(a, 8)"
   ]
  },
  {
   "cell_type": "code",
   "execution_count": null,
   "metadata": {
    "ExecuteTime": {
     "end_time": "2019-12-21T18:02:09.181410Z",
     "start_time": "2019-12-21T18:02:09.039071Z"
    },
    "colab": {
     "base_uri": "https://localhost:8080/"
    },
    "executionInfo": {
     "elapsed": 22,
     "status": "ok",
     "timestamp": 1659836647901,
     "user": {
      "displayName": "alan chen",
      "userId": "04205973771808470178"
     },
     "user_tz": -480
    },
    "id": "x6R9E5vaONMI",
    "outputId": "63085d95-1aaa-4b56-cb75-85cb15404e33"
   },
   "outputs": [
    {
     "data": {
      "text/plain": [
       "array([[[0.79352159, 0.63814702, 0.13345359],\n",
       "        [0.82210728, 0.99066863, 0.14421068]],\n",
       "\n",
       "       [[0.47504328, 0.04475688, 0.99192087],\n",
       "        [0.80056464, 0.65726207, 0.94661048]],\n",
       "\n",
       "       [[0.61348609, 0.56125509, 0.36538642],\n",
       "        [0.17925172, 0.89814463, 0.51755681]],\n",
       "\n",
       "       [[0.3973632 , 0.42605719, 0.42433273],\n",
       "        [0.44031873, 0.56397012, 0.96779462]]])"
      ]
     },
     "execution_count": 81,
     "metadata": {},
     "output_type": "execute_result"
    }
   ],
   "source": [
    "# random decimal numbers\n",
    "np.random.rand(4, 2, 3) # uniform distribution [0,1) # np.random.randn => std normal distribution"
   ]
  },
  {
   "cell_type": "code",
   "execution_count": null,
   "metadata": {
    "colab": {
     "base_uri": "https://localhost:8080/",
     "height": 201
    },
    "executionInfo": {
     "elapsed": 1127,
     "status": "error",
     "timestamp": 1659836649009,
     "user": {
      "displayName": "alan chen",
      "userId": "04205973771808470178"
     },
     "user_tz": -480
    },
    "id": "reqLA56dK04w",
    "outputId": "5997928b-1855-4ae2-8f83-87b4d00bfbd4"
   },
   "outputs": [
    {
     "ename": "TypeError",
     "evalue": "ignored",
     "output_type": "error",
     "traceback": [
      "\u001b[0;31m---------------------------------------------------------------------------\u001b[0m",
      "\u001b[0;31mTypeError\u001b[0m                                 Traceback (most recent call last)",
      "\u001b[0;32m<ipython-input-82-afb33007cb90>\u001b[0m in \u001b[0;36m<module>\u001b[0;34m()\u001b[0m\n\u001b[0;32m----> 1\u001b[0;31m \u001b[0mnp\u001b[0m\u001b[0;34m.\u001b[0m\u001b[0mrandom\u001b[0m\u001b[0;34m.\u001b[0m\u001b[0mrandom_sample\u001b[0m\u001b[0;34m(\u001b[0m\u001b[0;36m4\u001b[0m\u001b[0;34m,\u001b[0m \u001b[0;36m2\u001b[0m\u001b[0;34m,\u001b[0m \u001b[0;36m3\u001b[0m\u001b[0;34m)\u001b[0m\u001b[0;34m\u001b[0m\u001b[0;34m\u001b[0m\u001b[0m\n\u001b[0m",
      "\u001b[0;32mmtrand.pyx\u001b[0m in \u001b[0;36mnumpy.random.mtrand.RandomState.random_sample\u001b[0;34m()\u001b[0m\n",
      "\u001b[0;31mTypeError\u001b[0m: random_sample() takes at most 1 positional argument (3 given)"
     ]
    }
   ],
   "source": [
    "np.random.random_sample(4, 2, 3)"
   ]
  },
  {
   "cell_type": "code",
   "execution_count": null,
   "metadata": {
    "colab": {
     "base_uri": "https://localhost:8080/"
    },
    "executionInfo": {
     "elapsed": 3,
     "status": "ok",
     "timestamp": 1659836658812,
     "user": {
      "displayName": "alan chen",
      "userId": "04205973771808470178"
     },
     "user_tz": -480
    },
    "id": "3m8f5CH8K9Um",
    "outputId": "5a38a055-4690-4a66-e8d3-7bad995a1699"
   },
   "outputs": [
    {
     "data": {
      "text/plain": [
       "array([[[0.2529175 , 0.53846651, 0.89399832],\n",
       "        [0.72909165, 0.16997689, 0.68508731]],\n",
       "\n",
       "       [[0.0179452 , 0.00694638, 0.53002444],\n",
       "        [0.72574092, 0.38930213, 0.18831088]],\n",
       "\n",
       "       [[0.1101829 , 0.6588632 , 0.15192472],\n",
       "        [0.05575746, 0.49784078, 0.79272582]],\n",
       "\n",
       "       [[0.75597421, 0.58841609, 0.68047447],\n",
       "        [0.88840745, 0.89445225, 0.67011927]]])"
      ]
     },
     "execution_count": 83,
     "metadata": {},
     "output_type": "execute_result"
    }
   ],
   "source": [
    "np.random.random_sample((4, 2, 3)) # uniform distribution [0,1)"
   ]
  },
  {
   "cell_type": "code",
   "execution_count": null,
   "metadata": {
    "ExecuteTime": {
     "end_time": "2019-12-21T18:02:09.327540Z",
     "start_time": "2019-12-21T18:02:09.184402Z"
    },
    "colab": {
     "base_uri": "https://localhost:8080/"
    },
    "executionInfo": {
     "elapsed": 891,
     "status": "ok",
     "timestamp": 1659836660302,
     "user": {
      "displayName": "alan chen",
      "userId": "04205973771808470178"
     },
     "user_tz": -480
    },
    "id": "5hj5Z4XkONMI",
    "outputId": "e5827c29-8eea-487e-f546-e24ea3b397b5"
   },
   "outputs": [
    {
     "data": {
      "text/plain": [
       "array([[0.8604243 , 0.66457853, 0.64860038, 0.24266356, 0.10388281,\n",
       "        0.96661683, 0.73548277],\n",
       "       [0.59557949, 0.18703322, 0.42408809, 0.33223854, 0.38630098,\n",
       "        0.32332654, 0.01016243]])"
      ]
     },
     "execution_count": 84,
     "metadata": {},
     "output_type": "execute_result"
    }
   ],
   "source": [
    "np.random.random_sample(a.shape) # np.random.random_sample((2,8)), uniform distribution [0,1)"
   ]
  },
  {
   "cell_type": "code",
   "execution_count": null,
   "metadata": {
    "ExecuteTime": {
     "end_time": "2019-12-21T18:02:09.466462Z",
     "start_time": "2019-12-21T18:02:09.328538Z"
    },
    "colab": {
     "base_uri": "https://localhost:8080/"
    },
    "executionInfo": {
     "elapsed": 114,
     "status": "ok",
     "timestamp": 1659836660302,
     "user": {
      "displayName": "alan chen",
      "userId": "04205973771808470178"
     },
     "user_tz": -480
    },
    "id": "mf1LqCzvONMI",
    "outputId": "1c121d81-7779-4787-f5b8-b38fec0c787a"
   },
   "outputs": [
    {
     "name": "stdout",
     "output_type": "stream",
     "text": [
      "5\n",
      "[[3 1 2]\n",
      " [4 6 4]\n",
      " [6 5 3]]\n"
     ]
    }
   ],
   "source": [
    "# random integer values\n",
    "print(np.random.randint(7)) # from [0,1,2,3,4,5,6]\n",
    "print(np.random.randint(7, size=(3, 3)))"
   ]
  },
  {
   "cell_type": "code",
   "execution_count": null,
   "metadata": {
    "ExecuteTime": {
     "end_time": "2019-12-21T18:02:09.644181Z",
     "start_time": "2019-12-21T18:02:09.467423Z"
    },
    "colab": {
     "base_uri": "https://localhost:8080/"
    },
    "executionInfo": {
     "elapsed": 108,
     "status": "ok",
     "timestamp": 1659836660303,
     "user": {
      "displayName": "alan chen",
      "userId": "04205973771808470178"
     },
     "user_tz": -480
    },
    "id": "_4EwUZVbONMI",
    "outputId": "a0dd0fc6-a424-43e0-fc72-3a5371a95ac6"
   },
   "outputs": [
    {
     "data": {
      "text/plain": [
       "array([[1., 0., 0.],\n",
       "       [0., 1., 0.],\n",
       "       [0., 0., 1.]])"
      ]
     },
     "execution_count": 86,
     "metadata": {},
     "output_type": "execute_result"
    }
   ],
   "source": [
    "# identity matrix\n",
    "np.identity(3)"
   ]
  },
  {
   "cell_type": "code",
   "execution_count": null,
   "metadata": {
    "ExecuteTime": {
     "end_time": "2019-12-21T18:02:10.010401Z",
     "start_time": "2019-12-21T18:02:09.799384Z"
    },
    "colab": {
     "base_uri": "https://localhost:8080/"
    },
    "executionInfo": {
     "elapsed": 103,
     "status": "ok",
     "timestamp": 1659836660304,
     "user": {
      "displayName": "alan chen",
      "userId": "04205973771808470178"
     },
     "user_tz": -480
    },
    "id": "Xm45HHneONMJ",
    "outputId": "34d88362-d02d-45be-8c34-ac6a67d6fec2"
   },
   "outputs": [
    {
     "name": "stdout",
     "output_type": "stream",
     "text": [
      "[[1 2 3]\n",
      " [1 2 3]\n",
      " [1 2 3]]\n",
      "-----\n",
      "[[1 1 1 2 2 2 3 3 3]]\n"
     ]
    }
   ],
   "source": [
    "# repeat an array 略\n",
    "\n",
    "arr = np.array([[1, 2, 3]]) # (1,3)\n",
    "r1 = np.repeat(arr, 3, axis=0) # (1x3,3)\n",
    "print(r1)\n",
    "print('-----')\n",
    "r2 = np.repeat(arr, 3, axis=1) # (1,3x3)\n",
    "print(r2)"
   ]
  },
  {
   "cell_type": "code",
   "execution_count": null,
   "metadata": {
    "ExecuteTime": {
     "end_time": "2019-12-21T18:02:10.194935Z",
     "start_time": "2019-12-21T18:02:10.011437Z"
    },
    "colab": {
     "base_uri": "https://localhost:8080/"
    },
    "executionInfo": {
     "elapsed": 96,
     "status": "ok",
     "timestamp": 1659836660304,
     "user": {
      "displayName": "alan chen",
      "userId": "04205973771808470178"
     },
     "user_tz": -480
    },
    "id": "BjwHPt05ONMJ",
    "outputId": "5a42c8a1-2f50-4e0e-b8c4-adf2408bc7e6"
   },
   "outputs": [
    {
     "name": "stdout",
     "output_type": "stream",
     "text": [
      "[[1. 1. 1. 1. 1.]\n",
      " [1. 1. 1. 1. 1.]\n",
      " [1. 1. 1. 1. 1.]\n",
      " [1. 1. 1. 1. 1.]\n",
      " [1. 1. 1. 1. 1.]]\n",
      "-----\n",
      "[[0. 0. 0.]\n",
      " [0. 0. 0.]\n",
      " [0. 0. 0.]]\n",
      "-----\n",
      "[[0. 0. 0.]\n",
      " [0. 9. 0.]\n",
      " [0. 0. 0.]]\n",
      "-----\n",
      "[[1. 1. 1. 1. 1.]\n",
      " [1. 0. 0. 0. 1.]\n",
      " [1. 0. 9. 0. 1.]\n",
      " [1. 0. 0. 0. 1.]\n",
      " [1. 1. 1. 1. 1.]]\n"
     ]
    }
   ],
   "source": [
    "#  creating a customized array\n",
    "output = np.ones((5, 5))\n",
    "print(output)\n",
    "print('-----')\n",
    "\n",
    "z = np.zeros((3, 3))\n",
    "print(z)\n",
    "print('-----')\n",
    "z[1, 1] = 9\n",
    "print(z)\n",
    "print('-----')\n",
    "\n",
    "output[1:4, 1:4] = z\n",
    "print(output)"
   ]
  },
  {
   "cell_type": "code",
   "execution_count": null,
   "metadata": {
    "ExecuteTime": {
     "end_time": "2019-12-21T18:02:10.366387Z",
     "start_time": "2019-12-21T18:02:10.196882Z"
    },
    "colab": {
     "base_uri": "https://localhost:8080/"
    },
    "executionInfo": {
     "elapsed": 90,
     "status": "ok",
     "timestamp": 1659836660305,
     "user": {
      "displayName": "alan chen",
      "userId": "04205973771808470178"
     },
     "user_tz": -480
    },
    "id": "DX8MSRCpONMJ",
    "outputId": "a3eeb6fb-851c-452a-c580-9627639ec57c"
   },
   "outputs": [
    {
     "name": "stdout",
     "output_type": "stream",
     "text": [
      "[100   2   3]\n",
      "[100   2   3]\n",
      "-----\n",
      "[1 2 3]\n",
      "[100   2   3]\n"
     ]
    }
   ],
   "source": [
    "# careful while copying\n",
    "a = np.array([1, 2, 3])\n",
    "b = a # just points\n",
    "b [0]= 100\n",
    "print(a)\n",
    "print(b)\n",
    "print('-----')\n",
    "\n",
    "a = np.array([1, 2, 3])\n",
    "b = a.copy()\n",
    "b [0]= 100\n",
    "print(a)\n",
    "print(b)\n"
   ]
  },
  {
   "cell_type": "code",
   "execution_count": null,
   "metadata": {
    "ExecuteTime": {
     "end_time": "2019-12-21T18:02:10.502909Z",
     "start_time": "2019-12-21T18:02:10.367384Z"
    },
    "colab": {
     "base_uri": "https://localhost:8080/"
    },
    "executionInfo": {
     "elapsed": 83,
     "status": "ok",
     "timestamp": 1659836660305,
     "user": {
      "displayName": "alan chen",
      "userId": "04205973771808470178"
     },
     "user_tz": -480
    },
    "id": "IcvPXaCCONMJ",
    "outputId": "fa3d2e31-df1c-4ac8-a6bb-2e54e100982b"
   },
   "outputs": [
    {
     "name": "stdout",
     "output_type": "stream",
     "text": [
      "(2,)\n",
      "[0 1]\n",
      "[[0]\n",
      " [1]]\n",
      "(2, 1)\n"
     ]
    }
   ],
   "source": [
    "# adding an axis\n",
    "a = np.array([0, 1])\n",
    "print(a.shape)\n",
    "print(a) # not row or col\n",
    "a_col = a[:, np.newaxis]\n",
    "print(a_col)\n",
    "print(a_col.shape)"
   ]
  },
  {
   "cell_type": "code",
   "execution_count": null,
   "metadata": {
    "colab": {
     "base_uri": "https://localhost:8080/"
    },
    "executionInfo": {
     "elapsed": 77,
     "status": "ok",
     "timestamp": 1659836660306,
     "user": {
      "displayName": "alan chen",
      "userId": "04205973771808470178"
     },
     "user_tz": -480
    },
    "id": "BO23-xxH86u3",
    "outputId": "be645bfa-c295-46bd-84d6-aa710ff7654d"
   },
   "outputs": [
    {
     "name": "stdout",
     "output_type": "stream",
     "text": [
      "[[0]\n",
      " [1]]\n"
     ]
    }
   ],
   "source": [
    "# adding an axis\n",
    "a = np.array([0, 1])\n",
    "a_col = np.expand_dims(a, axis=-1)\n",
    "print(a_col)"
   ]
  },
  {
   "cell_type": "code",
   "execution_count": null,
   "metadata": {
    "colab": {
     "base_uri": "https://localhost:8080/"
    },
    "executionInfo": {
     "elapsed": 70,
     "status": "ok",
     "timestamp": 1659836660306,
     "user": {
      "displayName": "alan chen",
      "userId": "04205973771808470178"
     },
     "user_tz": -480
    },
    "id": "OA19SygI9H7A",
    "outputId": "9db3689a-3d83-4a86-9219-b2db75772fc6"
   },
   "outputs": [
    {
     "name": "stdout",
     "output_type": "stream",
     "text": [
      "[[0]\n",
      " [1]]\n"
     ]
    }
   ],
   "source": [
    "# adding an axis\n",
    "a = np.array([0, 1])\n",
    "a_col = a[:, None] # 2 x 1\n",
    "print(a_col)"
   ]
  },
  {
   "cell_type": "code",
   "execution_count": null,
   "metadata": {
    "colab": {
     "base_uri": "https://localhost:8080/"
    },
    "executionInfo": {
     "elapsed": 67,
     "status": "ok",
     "timestamp": 1659836660307,
     "user": {
      "displayName": "alan chen",
      "userId": "04205973771808470178"
     },
     "user_tz": -480
    },
    "id": "SrJxNnfMPGFm",
    "outputId": "31e6bb26-e960-4c5f-90f0-c53dcca08024"
   },
   "outputs": [
    {
     "name": "stdout",
     "output_type": "stream",
     "text": [
      "[[0 1]]\n"
     ]
    }
   ],
   "source": [
    "a_col = a[None, :] # 1 x 2\n",
    "print(a_col)"
   ]
  },
  {
   "cell_type": "code",
   "execution_count": null,
   "metadata": {
    "ExecuteTime": {
     "end_time": "2019-12-21T18:02:10.644623Z",
     "start_time": "2019-12-21T18:02:10.503893Z"
    },
    "colab": {
     "base_uri": "https://localhost:8080/"
    },
    "executionInfo": {
     "elapsed": 62,
     "status": "ok",
     "timestamp": 1659836660307,
     "user": {
      "displayName": "alan chen",
      "userId": "04205973771808470178"
     },
     "user_tz": -480
    },
    "id": "lr0h2bYzONMJ",
    "outputId": "dddf83ff-82ce-4c5f-f23c-220d5cf9dae0"
   },
   "outputs": [
    {
     "name": "stdout",
     "output_type": "stream",
     "text": [
      "[[0 1]]\n"
     ]
    },
    {
     "data": {
      "text/plain": [
       "array([[0],\n",
       "       [1]])"
      ]
     },
     "execution_count": 94,
     "metadata": {},
     "output_type": "execute_result"
    }
   ],
   "source": [
    "print(a_col) # (1,2)\n",
    "a_col.T # (2,1)"
   ]
  },
  {
   "cell_type": "code",
   "execution_count": null,
   "metadata": {
    "colab": {
     "base_uri": "https://localhost:8080/"
    },
    "executionInfo": {
     "elapsed": 57,
     "status": "ok",
     "timestamp": 1659836660308,
     "user": {
      "displayName": "alan chen",
      "userId": "04205973771808470178"
     },
     "user_tz": -480
    },
    "id": "QNcyhmx-PIIg",
    "outputId": "55ef0d2d-c895-452d-e47c-85bca14cda4e"
   },
   "outputs": [
    {
     "name": "stdout",
     "output_type": "stream",
     "text": [
      "(1, 2)\n",
      "(2, 1)\n"
     ]
    }
   ],
   "source": [
    "print(a_col.shape)\n",
    "print(a_col.T.shape)"
   ]
  },
  {
   "cell_type": "code",
   "execution_count": null,
   "metadata": {
    "ExecuteTime": {
     "end_time": "2019-12-21T18:02:10.799298Z",
     "start_time": "2019-12-21T18:02:10.645620Z"
    },
    "colab": {
     "base_uri": "https://localhost:8080/"
    },
    "executionInfo": {
     "elapsed": 49,
     "status": "ok",
     "timestamp": 1659836660308,
     "user": {
      "displayName": "alan chen",
      "userId": "04205973771808470178"
     },
     "user_tz": -480
    },
    "id": "W0ECYJdGONMJ",
    "outputId": "f312ad9c-d8dc-434e-9283-edb8927c6d35"
   },
   "outputs": [
    {
     "name": "stdout",
     "output_type": "stream",
     "text": [
      "[[0. 1. 2. 3. 4.]\n",
      " [5. 6. 7. 8. 9.]]\n",
      "[33.  1.  2.  3.  4.  5.  6.  7.  8.  9.]\n"
     ]
    }
   ],
   "source": [
    "# flatten array\n",
    "# always returns a flat copy of the original array\n",
    "arr = np.arange(10, dtype=float).reshape((2, 5))\n",
    "arr_flat = arr.flatten()\n",
    "arr_flat[0] = 33\n",
    "\n",
    "print(arr)\n",
    "print(arr_flat) # arr.flatten | a flat copy | np.copy()"
   ]
  },
  {
   "cell_type": "code",
   "execution_count": null,
   "metadata": {
    "ExecuteTime": {
     "end_time": "2019-12-21T18:02:11.078832Z",
     "start_time": "2019-12-21T18:02:10.939488Z"
    },
    "colab": {
     "base_uri": "https://localhost:8080/"
    },
    "executionInfo": {
     "elapsed": 42,
     "status": "ok",
     "timestamp": 1659836660308,
     "user": {
      "displayName": "alan chen",
      "userId": "04205973771808470178"
     },
     "user_tz": -480
    },
    "id": "KB3wWTTEONMJ",
    "outputId": "966464fe-960d-4aae-a23c-231091f0b2a4"
   },
   "outputs": [
    {
     "name": "stdout",
     "output_type": "stream",
     "text": [
      "[ 5.  6.  7.  8.  9. 10. 11. 12. 13. 14. 15.]\n",
      "(array([ 5.,  6.,  7.,  8.,  9., 10., 11., 12., 13., 14., 15.]), 1.0)\n"
     ]
    }
   ],
   "source": [
    "# creating evenly spaced number over an specified interval\n",
    "\n",
    "np.linspace(start = 5, stop=15, num=11)\n",
    "print(np.linspace(5, 15, 11))\n",
    "\n",
    "print(np.linspace(5, 15, 11, retstep=True))"
   ]
  },
  {
   "cell_type": "code",
   "execution_count": null,
   "metadata": {
    "id": "IQ_7yeOGAO6I"
   },
   "outputs": [],
   "source": [
    "# Exercises 0\n",
    "#1. Create a null(zero) vector (1-d array) of size 10 but the fifth value is 1\n",
    "\n",
    "#2. Create a 3x3 array with values ranging from 0 to 8\n",
    "\n",
    "#3. Create a 2d (5x5) array with 1 on the border and 0 inside\n",
    "\n",
    "#4. Create a 3x3x3 array with random values of uniform distribution [0,1)"
   ]
  },
  {
   "cell_type": "code",
   "execution_count": null,
   "metadata": {
    "id": "8Wmwptt-y-4-"
   },
   "outputs": [],
   "source": []
  },
  {
   "cell_type": "markdown",
   "metadata": {
    "ExecuteTime": {
     "end_time": "2019-12-20T14:54:07.778468Z",
     "start_time": "2019-12-20T14:54:07.773481Z"
    },
    "id": "KytasqVqONMJ"
   },
   "source": [
    "## Mathematics"
   ]
  },
  {
   "cell_type": "code",
   "execution_count": null,
   "metadata": {
    "ExecuteTime": {
     "end_time": "2019-12-21T18:02:11.215533Z",
     "start_time": "2019-12-21T18:02:11.079796Z"
    },
    "colab": {
     "base_uri": "https://localhost:8080/"
    },
    "executionInfo": {
     "elapsed": 30,
     "status": "ok",
     "timestamp": 1659836660309,
     "user": {
      "displayName": "alan chen",
      "userId": "04205973771808470178"
     },
     "user_tz": -480
    },
    "id": "y2W031JcONMJ",
    "outputId": "058aafeb-8252-43a2-dcf9-612d72ef1f86"
   },
   "outputs": [
    {
     "name": "stdout",
     "output_type": "stream",
     "text": [
      "[1 2 3 4]\n"
     ]
    }
   ],
   "source": [
    "a = np.array([1, 2, 3, 4])\n",
    "print(a)"
   ]
  },
  {
   "cell_type": "code",
   "execution_count": null,
   "metadata": {
    "ExecuteTime": {
     "end_time": "2019-12-21T18:02:11.355929Z",
     "start_time": "2019-12-21T18:02:11.216530Z"
    },
    "colab": {
     "base_uri": "https://localhost:8080/"
    },
    "executionInfo": {
     "elapsed": 26,
     "status": "ok",
     "timestamp": 1659836660310,
     "user": {
      "displayName": "alan chen",
      "userId": "04205973771808470178"
     },
     "user_tz": -480
    },
    "id": "FVTc-LqZONMJ",
    "outputId": "cf88bf97-9624-43a2-d7fb-f1ad7200457a"
   },
   "outputs": [
    {
     "data": {
      "text/plain": [
       "array([3, 4, 5, 6])"
      ]
     },
     "execution_count": 101,
     "metadata": {},
     "output_type": "execute_result"
    }
   ],
   "source": [
    "a + 2"
   ]
  },
  {
   "cell_type": "code",
   "execution_count": null,
   "metadata": {
    "ExecuteTime": {
     "end_time": "2019-12-21T18:02:11.512502Z",
     "start_time": "2019-12-21T18:02:11.356927Z"
    },
    "colab": {
     "base_uri": "https://localhost:8080/"
    },
    "executionInfo": {
     "elapsed": 21,
     "status": "ok",
     "timestamp": 1659836660310,
     "user": {
      "displayName": "alan chen",
      "userId": "04205973771808470178"
     },
     "user_tz": -480
    },
    "id": "vk4faqZlONMJ",
    "outputId": "6db081eb-75e8-4193-c2e1-7ce889cd4360"
   },
   "outputs": [
    {
     "data": {
      "text/plain": [
       "array([-1,  0,  1,  2])"
      ]
     },
     "execution_count": 102,
     "metadata": {},
     "output_type": "execute_result"
    }
   ],
   "source": [
    "a - 2"
   ]
  },
  {
   "cell_type": "code",
   "execution_count": null,
   "metadata": {
    "ExecuteTime": {
     "end_time": "2019-12-21T18:02:11.649284Z",
     "start_time": "2019-12-21T18:02:11.513499Z"
    },
    "colab": {
     "base_uri": "https://localhost:8080/"
    },
    "executionInfo": {
     "elapsed": 162,
     "status": "ok",
     "timestamp": 1659836664069,
     "user": {
      "displayName": "alan chen",
      "userId": "04205973771808470178"
     },
     "user_tz": -480
    },
    "id": "8urysko8ONMJ",
    "outputId": "80a0c240-d44c-4ca1-8fbd-5cfe901b2c32"
   },
   "outputs": [
    {
     "data": {
      "text/plain": [
       "array([0.5, 1. , 1.5, 2. ])"
      ]
     },
     "execution_count": 103,
     "metadata": {},
     "output_type": "execute_result"
    }
   ],
   "source": [
    "a / 2"
   ]
  },
  {
   "cell_type": "code",
   "execution_count": null,
   "metadata": {
    "colab": {
     "base_uri": "https://localhost:8080/"
    },
    "executionInfo": {
     "elapsed": 158,
     "status": "ok",
     "timestamp": 1659836664069,
     "user": {
      "displayName": "alan chen",
      "userId": "04205973771808470178"
     },
     "user_tz": -480
    },
    "id": "kCgzqaSFTtj6",
    "outputId": "bf8a7d0d-84d6-431c-e550-56b541c9a438"
   },
   "outputs": [
    {
     "data": {
      "text/plain": [
       "array([1, 2, 3, 4])"
      ]
     },
     "execution_count": 104,
     "metadata": {},
     "output_type": "execute_result"
    }
   ],
   "source": [
    "a"
   ]
  },
  {
   "cell_type": "code",
   "execution_count": null,
   "metadata": {
    "ExecuteTime": {
     "end_time": "2019-12-21T18:02:11.895858Z",
     "start_time": "2019-12-21T18:02:11.650242Z"
    },
    "id": "T-5joeuIONMJ"
   },
   "outputs": [],
   "source": [
    "b = np.array([1, 0, 1, 0])"
   ]
  },
  {
   "cell_type": "code",
   "execution_count": null,
   "metadata": {
    "ExecuteTime": {
     "end_time": "2019-12-21T18:02:12.093494Z",
     "start_time": "2019-12-21T18:02:11.897856Z"
    },
    "colab": {
     "base_uri": "https://localhost:8080/"
    },
    "executionInfo": {
     "elapsed": 154,
     "status": "ok",
     "timestamp": 1659836664071,
     "user": {
      "displayName": "alan chen",
      "userId": "04205973771808470178"
     },
     "user_tz": -480
    },
    "id": "szSuKKSjONMJ",
    "outputId": "5396fef5-8513-42dd-bf02-36b79fb97f63"
   },
   "outputs": [
    {
     "data": {
      "text/plain": [
       "array([2, 2, 4, 4])"
      ]
     },
     "execution_count": 106,
     "metadata": {},
     "output_type": "execute_result"
    }
   ],
   "source": [
    "a + b\n"
   ]
  },
  {
   "cell_type": "code",
   "execution_count": null,
   "metadata": {
    "colab": {
     "base_uri": "https://localhost:8080/"
    },
    "executionInfo": {
     "elapsed": 150,
     "status": "ok",
     "timestamp": 1659836664071,
     "user": {
      "displayName": "alan chen",
      "userId": "04205973771808470178"
     },
     "user_tz": -480
    },
    "id": "h1I1p-d1TsKH",
    "outputId": "b7825a8b-4abf-4e22-c45e-d4f532cd050b"
   },
   "outputs": [
    {
     "data": {
      "text/plain": [
       "array([1, 0, 3, 0])"
      ]
     },
     "execution_count": 107,
     "metadata": {},
     "output_type": "execute_result"
    }
   ],
   "source": [
    "a * b"
   ]
  },
  {
   "cell_type": "code",
   "execution_count": null,
   "metadata": {
    "ExecuteTime": {
     "end_time": "2019-12-21T18:02:12.234376Z",
     "start_time": "2019-12-21T18:02:12.094418Z"
    },
    "colab": {
     "base_uri": "https://localhost:8080/"
    },
    "executionInfo": {
     "elapsed": 147,
     "status": "ok",
     "timestamp": 1659836664072,
     "user": {
      "displayName": "alan chen",
      "userId": "04205973771808470178"
     },
     "user_tz": -480
    },
    "id": "Q1onxI4nONMJ",
    "outputId": "de52d263-ffa4-4b22-c464-ab7853867566"
   },
   "outputs": [
    {
     "data": {
      "text/plain": [
       "array([ 0.84147098,  0.90929743,  0.14112001, -0.7568025 ])"
      ]
     },
     "execution_count": 108,
     "metadata": {},
     "output_type": "execute_result"
    }
   ],
   "source": [
    "np.sin(a) "
   ]
  },
  {
   "cell_type": "markdown",
   "metadata": {
    "ExecuteTime": {
     "end_time": "2019-12-20T14:56:32.438765Z",
     "start_time": "2019-12-20T14:56:32.434790Z"
    },
    "id": "OMgTNHtNONMJ"
   },
   "source": [
    "### linear algebra\n"
   ]
  },
  {
   "cell_type": "code",
   "execution_count": null,
   "metadata": {
    "ExecuteTime": {
     "end_time": "2019-12-21T18:02:12.373699Z",
     "start_time": "2019-12-21T18:02:12.235338Z"
    },
    "colab": {
     "base_uri": "https://localhost:8080/"
    },
    "executionInfo": {
     "elapsed": 143,
     "status": "ok",
     "timestamp": 1659836664073,
     "user": {
      "displayName": "alan chen",
      "userId": "04205973771808470178"
     },
     "user_tz": -480
    },
    "id": "8Rx4cmzYONMJ",
    "outputId": "5bb217f0-c2f8-4cc2-90e1-658dd8552fcf"
   },
   "outputs": [
    {
     "data": {
      "text/plain": [
       "matrix([[3, 1, 4],\n",
       "        [1, 5, 9],\n",
       "        [2, 6, 5]])"
      ]
     },
     "execution_count": 109,
     "metadata": {},
     "output_type": "execute_result"
    }
   ],
   "source": [
    "my_first_matrix = np.matrix([[3, 1, 4], [1, 5, 9], [2, 6, 5]]) # 2-d\n",
    "my_first_matrix"
   ]
  },
  {
   "cell_type": "code",
   "execution_count": null,
   "metadata": {
    "ExecuteTime": {
     "end_time": "2019-12-21T18:02:12.511117Z",
     "start_time": "2019-12-21T18:02:12.374698Z"
    },
    "colab": {
     "base_uri": "https://localhost:8080/"
    },
    "executionInfo": {
     "elapsed": 140,
     "status": "ok",
     "timestamp": 1659836664074,
     "user": {
      "displayName": "alan chen",
      "userId": "04205973771808470178"
     },
     "user_tz": -480
    },
    "id": "p8a10YTpONMJ",
    "outputId": "85874cd9-9607-4c4a-e753-48018b82681a"
   },
   "outputs": [
    {
     "data": {
      "text/plain": [
       "matrix([[3, 1, 2],\n",
       "        [1, 5, 6],\n",
       "        [4, 9, 5]])"
      ]
     },
     "execution_count": 110,
     "metadata": {},
     "output_type": "execute_result"
    }
   ],
   "source": [
    "my_first_matrix.T"
   ]
  },
  {
   "cell_type": "code",
   "execution_count": null,
   "metadata": {
    "ExecuteTime": {
     "end_time": "2019-12-21T18:02:12.640648Z",
     "start_time": "2019-12-21T18:02:12.512076Z"
    },
    "colab": {
     "base_uri": "https://localhost:8080/"
    },
    "executionInfo": {
     "elapsed": 136,
     "status": "ok",
     "timestamp": 1659836664074,
     "user": {
      "displayName": "alan chen",
      "userId": "04205973771808470178"
     },
     "user_tz": -480
    },
    "id": "XaF6zb1hONMJ",
    "outputId": "db142fe4-19a8-4f63-eb98-e89580a6bcb1"
   },
   "outputs": [
    {
     "data": {
      "text/plain": [
       "matrix([[ 0.32222222, -0.21111111,  0.12222222],\n",
       "        [-0.14444444, -0.07777778,  0.25555556],\n",
       "        [ 0.04444444,  0.17777778, -0.15555556]])"
      ]
     },
     "execution_count": 111,
     "metadata": {},
     "output_type": "execute_result"
    }
   ],
   "source": [
    "my_first_matrix.I # inverse of matrix"
   ]
  },
  {
   "cell_type": "code",
   "execution_count": null,
   "metadata": {
    "ExecuteTime": {
     "end_time": "2019-12-21T18:02:14.171568Z",
     "start_time": "2019-12-21T18:02:13.547794Z"
    },
    "colab": {
     "base_uri": "https://localhost:8080/"
    },
    "executionInfo": {
     "elapsed": 133,
     "status": "ok",
     "timestamp": 1659836664075,
     "user": {
      "displayName": "alan chen",
      "userId": "04205973771808470178"
     },
     "user_tz": -480
    },
    "id": "Qo-hnh1aONMJ",
    "outputId": "5dc8acaf-0361-4de5-91b0-8362b1f73972"
   },
   "outputs": [
    {
     "data": {
      "text/plain": [
       "(array([13.08576474,  2.58000566, -2.66577041]),\n",
       " matrix([[-0.31542644, -0.95117074, -0.32372474],\n",
       "         [-0.72306109,  0.30781323, -0.70222933],\n",
       "         [-0.61456393,  0.02291827,  0.63409484]]))"
      ]
     },
     "execution_count": 112,
     "metadata": {},
     "output_type": "execute_result"
    }
   ],
   "source": [
    "# compute the eigenvalues and eigenvectors\n",
    "from numpy.linalg import eig\n",
    "eig(my_first_matrix)"
   ]
  },
  {
   "cell_type": "markdown",
   "metadata": {
    "ExecuteTime": {
     "end_time": "2019-12-20T14:59:04.931064Z",
     "start_time": "2019-12-20T14:59:04.925082Z"
    },
    "id": "zw1PRySXONMJ"
   },
   "source": [
    "### statistics"
   ]
  },
  {
   "cell_type": "code",
   "execution_count": null,
   "metadata": {
    "id": "214FcUpJQ0LX"
   },
   "outputs": [],
   "source": [
    "import numpy as np"
   ]
  },
  {
   "cell_type": "code",
   "execution_count": null,
   "metadata": {
    "ExecuteTime": {
     "end_time": "2019-12-21T18:02:14.313319Z",
     "start_time": "2019-12-21T18:02:14.175556Z"
    },
    "colab": {
     "base_uri": "https://localhost:8080/"
    },
    "executionInfo": {
     "elapsed": 454,
     "status": "ok",
     "timestamp": 1667810705254,
     "user": {
      "displayName": "alan chen",
      "userId": "04205973771808470178"
     },
     "user_tz": -480
    },
    "id": "Ck-joKgcONMJ",
    "outputId": "10e5adc0-1dbf-4b1b-a1ae-95e50dd0e3f2"
   },
   "outputs": [
    {
     "data": {
      "text/plain": [
       "array([[1, 2, 3],\n",
       "       [4, 5, 6]])"
      ]
     },
     "execution_count": 2,
     "metadata": {},
     "output_type": "execute_result"
    }
   ],
   "source": [
    "stats = np.array([[1, 2, 3], [4, 5, 6]])\n",
    "stats"
   ]
  },
  {
   "cell_type": "code",
   "execution_count": null,
   "metadata": {
    "colab": {
     "base_uri": "https://localhost:8080/"
    },
    "executionInfo": {
     "elapsed": 719,
     "status": "ok",
     "timestamp": 1667810785978,
     "user": {
      "displayName": "alan chen",
      "userId": "04205973771808470178"
     },
     "user_tz": -480
    },
    "id": "4mNY7zXCQ8eb",
    "outputId": "45bc08f3-275a-4dcf-b31e-df8966c5dbcb"
   },
   "outputs": [
    {
     "data": {
      "text/plain": [
       "1"
      ]
     },
     "execution_count": 5,
     "metadata": {},
     "output_type": "execute_result"
    }
   ],
   "source": [
    "np.min(stats)"
   ]
  },
  {
   "cell_type": "code",
   "execution_count": null,
   "metadata": {
    "ExecuteTime": {
     "end_time": "2019-12-21T18:02:14.452997Z",
     "start_time": "2019-12-21T18:02:14.314316Z"
    },
    "colab": {
     "base_uri": "https://localhost:8080/"
    },
    "executionInfo": {
     "elapsed": 126,
     "status": "ok",
     "timestamp": 1659836664077,
     "user": {
      "displayName": "alan chen",
      "userId": "04205973771808470178"
     },
     "user_tz": -480
    },
    "id": "532abBk3ONMJ",
    "outputId": "a66fa530-9381-4f8e-f074-1d54a4367e60"
   },
   "outputs": [
    {
     "name": "stdout",
     "output_type": "stream",
     "text": [
      "[1 2 3]\n",
      "[1 4]\n",
      "[4 5 6]\n",
      "[3 6]\n"
     ]
    }
   ],
   "source": [
    "print(np.min(stats, axis=0)) # 結果是一 row\n",
    "print(np.min(stats, axis=1)) # 結果是一 column\n",
    "\n",
    "print(np.max(stats, axis=0))\n",
    "print(np.max(stats, axis=1))"
   ]
  },
  {
   "cell_type": "code",
   "execution_count": null,
   "metadata": {
    "colab": {
     "base_uri": "https://localhost:8080/"
    },
    "executionInfo": {
     "elapsed": 122,
     "status": "ok",
     "timestamp": 1659836664077,
     "user": {
      "displayName": "alan chen",
      "userId": "04205973771808470178"
     },
     "user_tz": -480
    },
    "id": "avY1QOX1WwUE",
    "outputId": "e569bea8-0107-4b4f-e884-c4693ce914e7"
   },
   "outputs": [
    {
     "data": {
      "text/plain": [
       "array([[1, 2, 3],\n",
       "       [4, 5, 6]])"
      ]
     },
     "execution_count": 115,
     "metadata": {},
     "output_type": "execute_result"
    }
   ],
   "source": [
    "stats"
   ]
  },
  {
   "cell_type": "code",
   "execution_count": null,
   "metadata": {
    "ExecuteTime": {
     "end_time": "2019-12-21T18:02:14.591913Z",
     "start_time": "2019-12-21T18:02:14.453958Z"
    },
    "colab": {
     "base_uri": "https://localhost:8080/"
    },
    "executionInfo": {
     "elapsed": 119,
     "status": "ok",
     "timestamp": 1659836664078,
     "user": {
      "displayName": "alan chen",
      "userId": "04205973771808470178"
     },
     "user_tz": -480
    },
    "id": "USEeTB8fONMK",
    "outputId": "004c7bef-9ef6-4049-c927-401aff3133c1"
   },
   "outputs": [
    {
     "data": {
      "text/plain": [
       "array([5, 7, 9])"
      ]
     },
     "execution_count": 116,
     "metadata": {},
     "output_type": "execute_result"
    }
   ],
   "source": [
    "np.sum(stats, axis=0) # 結果是 1 row"
   ]
  },
  {
   "cell_type": "code",
   "execution_count": null,
   "metadata": {
    "ExecuteTime": {
     "end_time": "2019-12-21T18:02:14.743480Z",
     "start_time": "2019-12-21T18:02:14.592912Z"
    },
    "colab": {
     "base_uri": "https://localhost:8080/"
    },
    "executionInfo": {
     "elapsed": 268,
     "status": "ok",
     "timestamp": 1667888181466,
     "user": {
      "displayName": "alan chen",
      "userId": "04205973771808470178"
     },
     "user_tz": -480
    },
    "id": "tKnCiRqdONMK",
    "outputId": "8820185d-36bc-4ebe-9f1c-eee9d546e9a1"
   },
   "outputs": [
    {
     "name": "stdout",
     "output_type": "stream",
     "text": [
      "[[ 0.75011051 -0.56856497]\n",
      " [ 0.08161791 -0.23674663]\n",
      " [-0.68454025  0.02496519]\n",
      " [ 0.25839553 -1.08477145]]\n",
      "-0.18244176856672661\n",
      "0.5471606625329993\n",
      "7\n",
      "-1.459534148533813\n",
      "[ 0.40558371 -1.86511786]\n",
      "[ 0.18154554 -0.15512872 -0.65957505 -0.82637592]\n"
     ]
    }
   ],
   "source": [
    "rnd = np.random.randn(4, 2) # random normals in 4x2 array\n",
    "print(rnd)\n",
    "print(rnd.mean())\n",
    "print(rnd.std())\n",
    "print(rnd.argmin()) # index of minimum element\n",
    "print(rnd.sum())\n",
    "print(rnd.sum(axis=0)) # sum of columns # 結果是一 row (axis=0)\n",
    "print(rnd.sum(axis=1)) # sum of rows # 結果是一 column (axis=1)"
   ]
  },
  {
   "cell_type": "markdown",
   "metadata": {
    "ExecuteTime": {
     "end_time": "2019-12-20T16:00:31.937871Z",
     "start_time": "2019-12-20T16:00:31.928976Z"
    },
    "id": "FuuN7UlCONMK"
   },
   "source": [
    "### boolean masking and advanced indexing"
   ]
  },
  {
   "cell_type": "code",
   "execution_count": null,
   "metadata": {
    "ExecuteTime": {
     "end_time": "2019-12-21T18:02:15.484901Z",
     "start_time": "2019-12-21T18:02:15.214147Z"
    },
    "colab": {
     "base_uri": "https://localhost:8080/"
    },
    "executionInfo": {
     "elapsed": 113,
     "status": "ok",
     "timestamp": 1659836664080,
     "user": {
      "displayName": "alan chen",
      "userId": "04205973771808470178"
     },
     "user_tz": -480
    },
    "id": "tQ7ix4ssONMK",
    "outputId": "c900f194-be4e-4bf3-aa26-a10a5d08d7c0"
   },
   "outputs": [
    {
     "data": {
      "text/plain": [
       "array([2, 3, 9])"
      ]
     },
     "execution_count": 118,
     "metadata": {},
     "output_type": "execute_result"
    }
   ],
   "source": [
    "# we can index using a list\n",
    "a = np.array([1, 2, 3, 4, 5, 6, 7, 8, 9])\n",
    "a[[1, 2, 8]] # a[1], a[[1]]"
   ]
  },
  {
   "cell_type": "code",
   "execution_count": null,
   "metadata": {
    "colab": {
     "base_uri": "https://localhost:8080/"
    },
    "executionInfo": {
     "elapsed": 111,
     "status": "ok",
     "timestamp": 1659836664081,
     "user": {
      "displayName": "alan chen",
      "userId": "04205973771808470178"
     },
     "user_tz": -480
    },
    "id": "dtyOYtLaWiE_",
    "outputId": "c2ce650e-081f-47cf-b1f6-ffa8775608db"
   },
   "outputs": [
    {
     "data": {
      "text/plain": [
       "array([[ 0,  1,  2,  3,  4,  5,  6,  7,  8,  9],\n",
       "       [10, 11, 12, 13, 14, 15, 16, 17, 18, 19],\n",
       "       [20, 21, 22, 23, 24, 25, 26, 27, 28, 29]])"
      ]
     },
     "execution_count": 119,
     "metadata": {},
     "output_type": "execute_result"
    }
   ],
   "source": [
    "filedata = np.arange(30).reshape((3,10))\n",
    "filedata"
   ]
  },
  {
   "cell_type": "code",
   "execution_count": null,
   "metadata": {
    "ExecuteTime": {
     "end_time": "2019-12-21T18:02:15.054299Z",
     "start_time": "2019-12-21T18:02:14.895392Z"
    },
    "colab": {
     "base_uri": "https://localhost:8080/"
    },
    "executionInfo": {
     "elapsed": 107,
     "status": "ok",
     "timestamp": 1659836664081,
     "user": {
      "displayName": "alan chen",
      "userId": "04205973771808470178"
     },
     "user_tz": -480
    },
    "id": "6aJKzVmpONMK",
    "outputId": "0bf3c6cc-9440-49a7-c9a8-152319cba273"
   },
   "outputs": [
    {
     "data": {
      "text/plain": [
       "array([[False, False, False, False, False, False, False, False, False,\n",
       "        False],\n",
       "       [False, False, False, False, False, False,  True,  True,  True,\n",
       "         True],\n",
       "       [ True,  True,  True,  True,  True,  True,  True,  True,  True,\n",
       "         True]])"
      ]
     },
     "execution_count": 120,
     "metadata": {},
     "output_type": "execute_result"
    }
   ],
   "source": [
    "filedata > 15"
   ]
  },
  {
   "cell_type": "code",
   "execution_count": null,
   "metadata": {
    "ExecuteTime": {
     "end_time": "2019-12-21T18:02:15.213175Z",
     "start_time": "2019-12-21T18:02:15.055356Z"
    },
    "colab": {
     "base_uri": "https://localhost:8080/"
    },
    "executionInfo": {
     "elapsed": 104,
     "status": "ok",
     "timestamp": 1659836664082,
     "user": {
      "displayName": "alan chen",
      "userId": "04205973771808470178"
     },
     "user_tz": -480
    },
    "id": "76tZf8bYONMK",
    "outputId": "f59d2385-34a9-43c3-d48d-3773bec561c0"
   },
   "outputs": [
    {
     "data": {
      "text/plain": [
       "array([16, 17, 18, 19, 20, 21, 22, 23, 24, 25, 26, 27, 28, 29])"
      ]
     },
     "execution_count": 121,
     "metadata": {},
     "output_type": "execute_result"
    }
   ],
   "source": [
    "filedata[filedata > 15]"
   ]
  },
  {
   "cell_type": "code",
   "execution_count": null,
   "metadata": {
    "colab": {
     "base_uri": "https://localhost:8080/"
    },
    "executionInfo": {
     "elapsed": 101,
     "status": "ok",
     "timestamp": 1659836664083,
     "user": {
      "displayName": "alan chen",
      "userId": "04205973771808470178"
     },
     "user_tz": -480
    },
    "id": "7HLCwwI6aV-u",
    "outputId": "f0606d95-1980-4deb-84f5-d75c564202cc"
   },
   "outputs": [
    {
     "data": {
      "text/plain": [
       "array([[ 0,  1,  2,  3,  4,  5,  6,  7,  8,  9],\n",
       "       [10, 11, 12, 13, 14, 15, 16, 17, 18, 19],\n",
       "       [20, 21, 22, 23, 24, 25, 26, 27, 28, 29]])"
      ]
     },
     "execution_count": 122,
     "metadata": {},
     "output_type": "execute_result"
    }
   ],
   "source": [
    "filedata"
   ]
  },
  {
   "cell_type": "code",
   "execution_count": null,
   "metadata": {
    "ExecuteTime": {
     "end_time": "2019-12-21T18:02:15.688818Z",
     "start_time": "2019-12-21T18:02:15.485890Z"
    },
    "colab": {
     "base_uri": "https://localhost:8080/"
    },
    "executionInfo": {
     "elapsed": 97,
     "status": "ok",
     "timestamp": 1659836664083,
     "user": {
      "displayName": "alan chen",
      "userId": "04205973771808470178"
     },
     "user_tz": -480
    },
    "id": "Lrcri9hSONMK",
    "outputId": "a21bb406-3c92-4c62-b908-b52fe9b4461a"
   },
   "outputs": [
    {
     "data": {
      "text/plain": [
       "array([ True,  True,  True,  True,  True,  True,  True,  True,  True,\n",
       "        True])"
      ]
     },
     "execution_count": 123,
     "metadata": {},
     "output_type": "execute_result"
    }
   ],
   "source": [
    "np.any(filedata > 15, axis= 0) # 結果是一 row (axis=0)"
   ]
  },
  {
   "cell_type": "code",
   "execution_count": null,
   "metadata": {
    "ExecuteTime": {
     "end_time": "2019-12-21T18:02:15.830438Z",
     "start_time": "2019-12-21T18:02:15.690741Z"
    },
    "colab": {
     "base_uri": "https://localhost:8080/"
    },
    "executionInfo": {
     "elapsed": 94,
     "status": "ok",
     "timestamp": 1659836664084,
     "user": {
      "displayName": "alan chen",
      "userId": "04205973771808470178"
     },
     "user_tz": -480
    },
    "id": "5w-N263SONMK",
    "outputId": "d3b5815f-3531-40c2-97b8-d7b39b2819df"
   },
   "outputs": [
    {
     "data": {
      "text/plain": [
       "array([False, False, False, False, False, False, False, False, False,\n",
       "       False])"
      ]
     },
     "execution_count": 124,
     "metadata": {},
     "output_type": "execute_result"
    }
   ],
   "source": [
    "np.all(filedata > 15, axis= 0) # 結果是一 row"
   ]
  },
  {
   "cell_type": "code",
   "execution_count": null,
   "metadata": {
    "colab": {
     "base_uri": "https://localhost:8080/"
    },
    "executionInfo": {
     "elapsed": 92,
     "status": "ok",
     "timestamp": 1659836664085,
     "user": {
      "displayName": "alan chen",
      "userId": "04205973771808470178"
     },
     "user_tz": -480
    },
    "id": "6rbvLLBveUK9",
    "outputId": "4f1115a4-f1dd-4247-96f0-e58178b2556e"
   },
   "outputs": [
    {
     "data": {
      "text/plain": [
       "array([[ 0,  1,  2,  3,  4,  5,  6,  7,  8,  9],\n",
       "       [10, 11, 12, 13, 14, 15, 16, 17, 18, 19],\n",
       "       [20, 21, 22, 23, 24, 25, 26, 27, 28, 29]])"
      ]
     },
     "execution_count": 125,
     "metadata": {},
     "output_type": "execute_result"
    }
   ],
   "source": [
    "filedata"
   ]
  },
  {
   "cell_type": "code",
   "execution_count": null,
   "metadata": {
    "ExecuteTime": {
     "end_time": "2019-12-21T18:02:15.985609Z",
     "start_time": "2019-12-21T18:02:15.831436Z"
    },
    "colab": {
     "base_uri": "https://localhost:8080/"
    },
    "executionInfo": {
     "elapsed": 88,
     "status": "ok",
     "timestamp": 1659836664085,
     "user": {
      "displayName": "alan chen",
      "userId": "04205973771808470178"
     },
     "user_tz": -480
    },
    "id": "cJ5gRQQVONMK",
    "outputId": "43663874-3c3c-4c7c-e2c8-1395530536e1"
   },
   "outputs": [
    {
     "data": {
      "text/plain": [
       "array([[False, False, False, False, False, False, False, False, False,\n",
       "        False],\n",
       "       [False, False, False, False, False, False,  True,  True,  True,\n",
       "         True],\n",
       "       [ True,  True,  True,  True,  True, False, False, False, False,\n",
       "        False]])"
      ]
     },
     "execution_count": 126,
     "metadata": {},
     "output_type": "execute_result"
    }
   ],
   "source": [
    "(filedata > 15) & (filedata < 25) # numpy 交集 &; 聯集 |"
   ]
  },
  {
   "cell_type": "code",
   "execution_count": null,
   "metadata": {
    "ExecuteTime": {
     "end_time": "2019-12-21T18:02:16.147109Z",
     "start_time": "2019-12-21T18:02:15.986608Z"
    },
    "colab": {
     "base_uri": "https://localhost:8080/"
    },
    "executionInfo": {
     "elapsed": 85,
     "status": "ok",
     "timestamp": 1659836664086,
     "user": {
      "displayName": "alan chen",
      "userId": "04205973771808470178"
     },
     "user_tz": -480
    },
    "id": "sEqJJ3g7ONMK",
    "outputId": "341bd568-a349-4f5a-b549-222163f83889"
   },
   "outputs": [
    {
     "data": {
      "text/plain": [
       "array([[ True,  True,  True,  True,  True,  True,  True,  True,  True,\n",
       "         True],\n",
       "       [ True,  True,  True,  True,  True,  True, False, False, False,\n",
       "        False],\n",
       "       [False, False, False, False, False,  True,  True,  True,  True,\n",
       "         True]])"
      ]
     },
     "execution_count": 127,
     "metadata": {},
     "output_type": "execute_result"
    }
   ],
   "source": [
    "~((filedata > 15) & (filedata < 25)) # ~ -> 相反"
   ]
  },
  {
   "cell_type": "code",
   "execution_count": null,
   "metadata": {
    "ExecuteTime": {
     "end_time": "2019-12-21T18:02:16.285492Z",
     "start_time": "2019-12-21T18:02:16.149062Z"
    },
    "colab": {
     "base_uri": "https://localhost:8080/"
    },
    "executionInfo": {
     "elapsed": 82,
     "status": "ok",
     "timestamp": 1659836664087,
     "user": {
      "displayName": "alan chen",
      "userId": "04205973771808470178"
     },
     "user_tz": -480
    },
    "id": "MAAsN-gTONMK",
    "outputId": "de7de702-d915-49bb-ad35-0148d70ff147"
   },
   "outputs": [
    {
     "data": {
      "text/plain": [
       "array([16, 17, 18, 19, 20, 21, 22, 23, 24])"
      ]
     },
     "execution_count": 128,
     "metadata": {},
     "output_type": "execute_result"
    }
   ],
   "source": [
    "filedata[((filedata > 15) & (filedata < 25))]"
   ]
  },
  {
   "cell_type": "code",
   "execution_count": null,
   "metadata": {
    "colab": {
     "base_uri": "https://localhost:8080/"
    },
    "executionInfo": {
     "elapsed": 80,
     "status": "ok",
     "timestamp": 1659836664088,
     "user": {
      "displayName": "alan chen",
      "userId": "04205973771808470178"
     },
     "user_tz": -480
    },
    "id": "1wkruOWKiIlS",
    "outputId": "a73a915f-2c9b-48e7-d161-30c85767538e"
   },
   "outputs": [
    {
     "name": "stdout",
     "output_type": "stream",
     "text": [
      "False\n"
     ]
    }
   ],
   "source": [
    "print(0 == (17 % 7)) # == 布林運算子, (= assign)"
   ]
  },
  {
   "cell_type": "code",
   "execution_count": null,
   "metadata": {
    "colab": {
     "base_uri": "https://localhost:8080/"
    },
    "executionInfo": {
     "elapsed": 76,
     "status": "ok",
     "timestamp": 1659836664088,
     "user": {
      "displayName": "alan chen",
      "userId": "04205973771808470178"
     },
     "user_tz": -480
    },
    "id": "T7E-Pds0iXSs",
    "outputId": "03030eb8-a3d9-4746-9287-e9a9240ca61d"
   },
   "outputs": [
    {
     "name": "stdout",
     "output_type": "stream",
     "text": [
      "True\n"
     ]
    }
   ],
   "source": [
    "print(0 == (0 % 7)) # == 布林運算"
   ]
  },
  {
   "cell_type": "code",
   "execution_count": null,
   "metadata": {
    "id": "GoNWZ5Apx_Sw"
   },
   "outputs": [],
   "source": [
    "# zero_mod_7_mask =  0 == (my_vector % 7) # too many = ???"
   ]
  },
  {
   "cell_type": "code",
   "execution_count": null,
   "metadata": {
    "ExecuteTime": {
     "end_time": "2019-12-21T18:02:16.445371Z",
     "start_time": "2019-12-21T18:02:16.287449Z"
    },
    "colab": {
     "base_uri": "https://localhost:8080/"
    },
    "executionInfo": {
     "elapsed": 72,
     "status": "ok",
     "timestamp": 1659836664090,
     "user": {
      "displayName": "alan chen",
      "userId": "04205973771808470178"
     },
     "user_tz": -480
    },
    "id": "kQ-WH8RyONMK",
    "outputId": "3bb979a4-cae6-450f-b839-aba68ff44759"
   },
   "outputs": [
    {
     "name": "stdout",
     "output_type": "stream",
     "text": [
      "[False False  True False  True False  True]\n",
      "[False False  True False  True False  True]\n"
     ]
    }
   ],
   "source": [
    "my_vector = np.array([-17, -4, 0, 2, 21, 37, 105]) # assign\n",
    "print(0 == (my_vector % 7)) # == 布林運算\n",
    "zero_mod_7_mask =  0 == (my_vector % 7) # = assign | == 布林運算\n",
    "print(zero_mod_7_mask)"
   ]
  },
  {
   "cell_type": "code",
   "execution_count": null,
   "metadata": {
    "ExecuteTime": {
     "end_time": "2019-12-21T18:02:16.600678Z",
     "start_time": "2019-12-21T18:02:16.446412Z"
    },
    "colab": {
     "base_uri": "https://localhost:8080/"
    },
    "executionInfo": {
     "elapsed": 68,
     "status": "ok",
     "timestamp": 1659836664090,
     "user": {
      "displayName": "alan chen",
      "userId": "04205973771808470178"
     },
     "user_tz": -480
    },
    "id": "mrVq6QrEONMK",
    "outputId": "34564bcf-6d4d-4a88-ec46-02617b62318a"
   },
   "outputs": [
    {
     "data": {
      "text/plain": [
       "array([  0,  21, 105])"
      ]
     },
     "execution_count": 133,
     "metadata": {},
     "output_type": "execute_result"
    }
   ],
   "source": [
    "my_vector[zero_mod_7_mask]"
   ]
  },
  {
   "cell_type": "code",
   "execution_count": null,
   "metadata": {
    "ExecuteTime": {
     "end_time": "2019-12-21T18:02:16.773676Z",
     "start_time": "2019-12-21T18:02:16.601641Z"
    },
    "colab": {
     "base_uri": "https://localhost:8080/",
     "height": 410
    },
    "executionInfo": {
     "elapsed": 88,
     "status": "error",
     "timestamp": 1659836664115,
     "user": {
      "displayName": "alan chen",
      "userId": "04205973771808470178"
     },
     "user_tz": -480
    },
    "id": "D5HxSu8-ONMK",
    "outputId": "c4b380d9-4790-4bfe-b6f4-583f181ec0c9"
   },
   "outputs": [
    {
     "name": "stdout",
     "output_type": "stream",
     "text": [
      "[-17  -4   0   2  21  37 105]\n",
      "-----------\n",
      "[False False  True False  True False  True]\n",
      "-----------\n",
      "[False False False  True  True  True  True]\n",
      "-----------\n",
      "[False False False False  True False  True]\n",
      "-----------\n",
      "[False False False False  True False  True]\n",
      "[False False  True  True  True  True  True]\n",
      "[ 21 105]\n",
      "[ 21 105]\n"
     ]
    },
    {
     "ename": "ValueError",
     "evalue": "ignored",
     "output_type": "error",
     "traceback": [
      "\u001b[0;31m---------------------------------------------------------------------------\u001b[0m",
      "\u001b[0;31mValueError\u001b[0m                                Traceback (most recent call last)",
      "\u001b[0;32m<ipython-input-134-84c0944e4be5>\u001b[0m in \u001b[0;36m<module>\u001b[0;34m()\u001b[0m\n\u001b[1;32m     16\u001b[0m \u001b[0mprint\u001b[0m\u001b[0;34m(\u001b[0m\u001b[0mmy_vector\u001b[0m\u001b[0;34m[\u001b[0m\u001b[0mcombined_mask\u001b[0m\u001b[0;34m]\u001b[0m\u001b[0;34m)\u001b[0m\u001b[0;34m\u001b[0m\u001b[0;34m\u001b[0m\u001b[0m\n\u001b[1;32m     17\u001b[0m \u001b[0mprint\u001b[0m\u001b[0;34m(\u001b[0m\u001b[0mmy_vector\u001b[0m\u001b[0;34m[\u001b[0m \u001b[0;34m(\u001b[0m\u001b[0;36m0\u001b[0m \u001b[0;34m==\u001b[0m \u001b[0;34m(\u001b[0m\u001b[0mmy_vector\u001b[0m \u001b[0;34m%\u001b[0m \u001b[0;36m7\u001b[0m\u001b[0;34m)\u001b[0m\u001b[0;34m)\u001b[0m \u001b[0;34m&\u001b[0m \u001b[0;34m(\u001b[0m\u001b[0mmy_vector\u001b[0m \u001b[0;34m>\u001b[0m \u001b[0;36m0\u001b[0m\u001b[0;34m)\u001b[0m \u001b[0;34m]\u001b[0m\u001b[0;34m)\u001b[0m\u001b[0;34m\u001b[0m\u001b[0;34m\u001b[0m\u001b[0m\n\u001b[0;32m---> 18\u001b[0;31m \u001b[0mprint\u001b[0m\u001b[0;34m(\u001b[0m\u001b[0mmy_vector\u001b[0m\u001b[0;34m[\u001b[0m \u001b[0;34m(\u001b[0m\u001b[0;36m0\u001b[0m \u001b[0;34m==\u001b[0m \u001b[0;34m(\u001b[0m\u001b[0mmy_vector\u001b[0m \u001b[0;34m%\u001b[0m \u001b[0;36m7\u001b[0m\u001b[0;34m)\u001b[0m\u001b[0;34m)\u001b[0m \u001b[0;32mand\u001b[0m \u001b[0;34m(\u001b[0m\u001b[0mmy_vector\u001b[0m \u001b[0;34m>\u001b[0m \u001b[0;36m0\u001b[0m\u001b[0;34m)\u001b[0m \u001b[0;34m]\u001b[0m\u001b[0;34m)\u001b[0m \u001b[0;31m# error\u001b[0m\u001b[0;34m\u001b[0m\u001b[0;34m\u001b[0m\u001b[0m\n\u001b[0m",
      "\u001b[0;31mValueError\u001b[0m: The truth value of an array with more than one element is ambiguous. Use a.any() or a.all()"
     ]
    }
   ],
   "source": [
    "mod_test = 0 == (my_vector % 7)\n",
    "posmask = my_vector > 0\n",
    "combined_mask = np.logical_and(mod_test, posmask) # &\n",
    "# combined_mask\n",
    "print(my_vector)\n",
    "print('-----------')\n",
    "print(mod_test)\n",
    "print('-----------')\n",
    "print(posmask)\n",
    "print('-----------')\n",
    "print(combined_mask)\n",
    "print('-----------')\n",
    "print( (0 == (my_vector % 7)) & (my_vector > 0) )\n",
    "print( (0 == (my_vector % 7)) | (my_vector > 0) )\n",
    "\n",
    "print(my_vector[combined_mask])\n",
    "print(my_vector[ (0 == (my_vector % 7)) & (my_vector > 0) ])\n",
    "print(my_vector[ (0 == (my_vector % 7)) and (my_vector > 0) ]) # error"
   ]
  },
  {
   "cell_type": "code",
   "execution_count": null,
   "metadata": {
    "ExecuteTime": {
     "end_time": "2019-12-21T18:02:16.933874Z",
     "start_time": "2019-12-21T18:02:16.774674Z"
    },
    "id": "_FOOHA_FONMK"
   },
   "outputs": [],
   "source": [
    "#  example indexing\n",
    "a = np.arange(1, 11).reshape((2, 5))\n",
    "b = np.arange(11, 21).reshape((2, 5))\n",
    "c = np.arange(21, 31).reshape((2, 5))"
   ]
  },
  {
   "cell_type": "code",
   "execution_count": null,
   "metadata": {
    "ExecuteTime": {
     "end_time": "2019-12-21T18:02:17.074161Z",
     "start_time": "2019-12-21T18:02:16.935646Z"
    },
    "colab": {
     "base_uri": "https://localhost:8080/"
    },
    "executionInfo": {
     "elapsed": 53,
     "status": "ok",
     "timestamp": 1659836674157,
     "user": {
      "displayName": "alan chen",
      "userId": "04205973771808470178"
     },
     "user_tz": -480
    },
    "id": "xle4OBZiONMK",
    "outputId": "4f465134-f6cc-4a8c-ffb0-47b962a5947d"
   },
   "outputs": [
    {
     "name": "stdout",
     "output_type": "stream",
     "text": [
      "[[ 1  2  3  4  5]\n",
      " [ 6  7  8  9 10]\n",
      " [11 12 13 14 15]\n",
      " [16 17 18 19 20]\n",
      " [21 22 23 24 25]\n",
      " [26 27 28 29 30]]\n"
     ]
    }
   ],
   "source": [
    "final = np.vstack([a, b, c])\n",
    "print(final)"
   ]
  },
  {
   "cell_type": "code",
   "execution_count": null,
   "metadata": {
    "ExecuteTime": {
     "end_time": "2019-12-21T18:02:17.246323Z",
     "start_time": "2019-12-21T18:02:17.075159Z"
    },
    "colab": {
     "base_uri": "https://localhost:8080/"
    },
    "executionInfo": {
     "elapsed": 52,
     "status": "ok",
     "timestamp": 1659836674158,
     "user": {
      "displayName": "alan chen",
      "userId": "04205973771808470178"
     },
     "user_tz": -480
    },
    "id": "Oci4RH8VONMK",
    "outputId": "60e2e80b-9bf8-458e-e3af-4d7d95e92b07"
   },
   "outputs": [
    {
     "data": {
      "text/plain": [
       "array([[11, 12],\n",
       "       [16, 17]])"
      ]
     },
     "execution_count": 137,
     "metadata": {},
     "output_type": "execute_result"
    }
   ],
   "source": [
    "final[2:4, :2]"
   ]
  },
  {
   "cell_type": "code",
   "execution_count": null,
   "metadata": {
    "ExecuteTime": {
     "end_time": "2019-12-21T18:02:17.470000Z",
     "start_time": "2019-12-21T18:02:17.247320Z"
    },
    "colab": {
     "base_uri": "https://localhost:8080/"
    },
    "executionInfo": {
     "elapsed": 46,
     "status": "ok",
     "timestamp": 1659836674158,
     "user": {
      "displayName": "alan chen",
      "userId": "04205973771808470178"
     },
     "user_tz": -480
    },
    "id": "m41jPJJXONMK",
    "outputId": "cfc21a4c-5b65-40a3-c5cb-ff8357c965bb"
   },
   "outputs": [
    {
     "data": {
      "text/plain": [
       "array([ 2,  8, 14, 20])"
      ]
     },
     "execution_count": 138,
     "metadata": {},
     "output_type": "execute_result"
    }
   ],
   "source": [
    "final[[0, 1, 2, 3], [1, 2, 3, 4]] # [[row index], [col index]], one vs one"
   ]
  },
  {
   "cell_type": "code",
   "execution_count": null,
   "metadata": {
    "colab": {
     "base_uri": "https://localhost:8080/"
    },
    "executionInfo": {
     "elapsed": 43,
     "status": "ok",
     "timestamp": 1659836674159,
     "user": {
      "displayName": "alan chen",
      "userId": "04205973771808470178"
     },
     "user_tz": -480
    },
    "id": "tTEaV0Spoygd",
    "outputId": "fd471d0f-78ae-459b-a0ec-d7786c29a1bd"
   },
   "outputs": [
    {
     "data": {
      "text/plain": [
       "array([[ 1,  2,  3,  4,  5],\n",
       "       [ 6,  7,  8,  9, 10],\n",
       "       [11, 12, 13, 14, 15],\n",
       "       [16, 17, 18, 19, 20],\n",
       "       [21, 22, 23, 24, 25],\n",
       "       [26, 27, 28, 29, 30]])"
      ]
     },
     "execution_count": 139,
     "metadata": {},
     "output_type": "execute_result"
    }
   ],
   "source": [
    "final"
   ]
  },
  {
   "cell_type": "code",
   "execution_count": null,
   "metadata": {
    "ExecuteTime": {
     "end_time": "2019-12-21T18:02:17.619290Z",
     "start_time": "2019-12-21T18:02:17.470957Z"
    },
    "colab": {
     "base_uri": "https://localhost:8080/"
    },
    "executionInfo": {
     "elapsed": 40,
     "status": "ok",
     "timestamp": 1659836674160,
     "user": {
      "displayName": "alan chen",
      "userId": "04205973771808470178"
     },
     "user_tz": -480
    },
    "id": "jNCL-tsdONMK",
    "outputId": "55c541d1-ec37-4262-f3bb-12d8c6310f9d"
   },
   "outputs": [
    {
     "data": {
      "text/plain": [
       "array([[ 4,  5],\n",
       "       [24, 25],\n",
       "       [29, 30]])"
      ]
     },
     "execution_count": 140,
     "metadata": {},
     "output_type": "execute_result"
    }
   ],
   "source": [
    "final[[0, 4, 5], 3:]"
   ]
  },
  {
   "cell_type": "code",
   "execution_count": null,
   "metadata": {
    "id": "m1XsneI_ONMK"
   },
   "outputs": [],
   "source": [
    "# excercise 1\n",
    "\n",
    "# players = [56, 8, 19, 14, 6, 71]   # list 球隊人數                                        \n",
    "# teams = ['Apple', 'Orange', 'pineApple', 'Big Apple', 'Bananna', 'Cherry'] # list 球隊 Team\n",
    "\n",
    "#Players 總共有幾人 ? \n",
    "\n",
    "#Teams 總共有幾隊 ? \n",
    "\n",
    "#最多的人的 team 是幾人 ?\n",
    "\n",
    "#最多的人的 team 是哪個 team ?  即哪一隊最多人 ?\n",
    "\n",
    "#人數大於 10 的組別 ?\n",
    "\n",
    "#除了cherry組以外的 players 總數 ?\n"
   ]
  },
  {
   "cell_type": "code",
   "execution_count": null,
   "metadata": {
    "id": "0P_m8hJszG3U"
   },
   "outputs": [],
   "source": []
  },
  {
   "cell_type": "markdown",
   "metadata": {
    "id": "rKPEKq8qONMK"
   },
   "source": [
    "## Rearranging array elements"
   ]
  },
  {
   "cell_type": "code",
   "execution_count": null,
   "metadata": {
    "ExecuteTime": {
     "end_time": "2019-12-21T18:02:20.275488Z",
     "start_time": "2019-12-21T18:02:20.137507Z"
    },
    "colab": {
     "base_uri": "https://localhost:8080/"
    },
    "executionInfo": {
     "elapsed": 31,
     "status": "ok",
     "timestamp": 1659836674162,
     "user": {
      "displayName": "alan chen",
      "userId": "04205973771808470178"
     },
     "user_tz": -480
    },
    "id": "tw-xaV02ONML",
    "outputId": "d49195f7-1dd2-4767-c69a-869d5969a442"
   },
   "outputs": [
    {
     "name": "stdout",
     "output_type": "stream",
     "text": [
      "[[1 2 3 4]\n",
      " [5 6 7 8]]\n",
      "[[1]\n",
      " [2]\n",
      " [3]\n",
      " [4]\n",
      " [5]\n",
      " [6]\n",
      " [7]\n",
      " [8]]\n"
     ]
    }
   ],
   "source": [
    "before = np.array([[1, 2, 3 , 4], [5, 6, 7, 8]]) # 略\n",
    "print(before)\n",
    "\n",
    "print(before.reshape((8,1)))"
   ]
  },
  {
   "cell_type": "code",
   "execution_count": null,
   "metadata": {
    "ExecuteTime": {
     "end_time": "2019-12-21T18:02:20.481130Z",
     "start_time": "2019-12-21T18:02:20.276485Z"
    },
    "colab": {
     "base_uri": "https://localhost:8080/"
    },
    "executionInfo": {
     "elapsed": 28,
     "status": "ok",
     "timestamp": 1659836674163,
     "user": {
      "displayName": "alan chen",
      "userId": "04205973771808470178"
     },
     "user_tz": -480
    },
    "id": "5SzJaPU-ONML",
    "outputId": "44b7f903-41c9-4d30-8847-bc4371755238"
   },
   "outputs": [
    {
     "data": {
      "text/plain": [
       "array([[ 1,  2,  3,  4],\n",
       "       [11, 22, 33, 44],\n",
       "       [11, 22, 33, 44]])"
      ]
     },
     "execution_count": 144,
     "metadata": {},
     "output_type": "execute_result"
    }
   ],
   "source": [
    "# vertically stacking arrays # 略\n",
    "v1 = np.array([1, 2, 3, 4])\n",
    "v2 = np.array([11, 22, 33, 44])\n",
    "\n",
    "np.vstack((v1, v2, v2))"
   ]
  },
  {
   "cell_type": "code",
   "execution_count": null,
   "metadata": {
    "ExecuteTime": {
     "end_time": "2019-12-21T18:02:20.866976Z",
     "start_time": "2019-12-21T18:02:20.482128Z"
    },
    "colab": {
     "base_uri": "https://localhost:8080/",
     "height": 496
    },
    "executionInfo": {
     "elapsed": 34,
     "status": "error",
     "timestamp": 1659836674173,
     "user": {
      "displayName": "alan chen",
      "userId": "04205973771808470178"
     },
     "user_tz": -480
    },
    "id": "WR-N1Xn0ONML",
    "outputId": "1bf80f68-560a-43db-aea9-9e378f269a63"
   },
   "outputs": [
    {
     "name": "stdout",
     "output_type": "stream",
     "text": [
      "[[1. 1. 1. 1.]\n",
      " [1. 1. 1. 1.]]\n",
      "[[0. 0.]\n",
      " [0. 0.]]\n",
      "[[1. 1. 1. 1. 0. 0.]\n",
      " [1. 1. 1. 1. 0. 0.]]\n"
     ]
    },
    {
     "ename": "ValueError",
     "evalue": "ignored",
     "output_type": "error",
     "traceback": [
      "\u001b[0;31m---------------------------------------------------------------------------\u001b[0m",
      "\u001b[0;31mValueError\u001b[0m                                Traceback (most recent call last)",
      "\u001b[0;32m<ipython-input-145-7298b0428f8a>\u001b[0m in \u001b[0;36m<module>\u001b[0;34m()\u001b[0m\n\u001b[1;32m      5\u001b[0m \u001b[0mprint\u001b[0m\u001b[0;34m(\u001b[0m\u001b[0mh2\u001b[0m\u001b[0;34m)\u001b[0m\u001b[0;34m\u001b[0m\u001b[0;34m\u001b[0m\u001b[0m\n\u001b[1;32m      6\u001b[0m \u001b[0mprint\u001b[0m\u001b[0;34m(\u001b[0m\u001b[0mnp\u001b[0m\u001b[0;34m.\u001b[0m\u001b[0mhstack\u001b[0m\u001b[0;34m(\u001b[0m\u001b[0;34m(\u001b[0m\u001b[0mh1\u001b[0m\u001b[0;34m,\u001b[0m \u001b[0mh2\u001b[0m\u001b[0;34m)\u001b[0m\u001b[0;34m)\u001b[0m\u001b[0;34m)\u001b[0m \u001b[0;31m# (2,6)\u001b[0m\u001b[0;34m\u001b[0m\u001b[0;34m\u001b[0m\u001b[0m\n\u001b[0;32m----> 7\u001b[0;31m \u001b[0mnp\u001b[0m\u001b[0;34m.\u001b[0m\u001b[0mvstack\u001b[0m\u001b[0;34m(\u001b[0m\u001b[0;34m(\u001b[0m\u001b[0mh1\u001b[0m\u001b[0;34m,\u001b[0m \u001b[0mh2\u001b[0m\u001b[0;34m)\u001b[0m\u001b[0;34m)\u001b[0m\u001b[0;34m\u001b[0m\u001b[0;34m\u001b[0m\u001b[0m\n\u001b[0m",
      "\u001b[0;32m<__array_function__ internals>\u001b[0m in \u001b[0;36mvstack\u001b[0;34m(*args, **kwargs)\u001b[0m\n",
      "\u001b[0;32m/usr/local/lib/python3.7/dist-packages/numpy/core/shape_base.py\u001b[0m in \u001b[0;36mvstack\u001b[0;34m(tup)\u001b[0m\n\u001b[1;32m    280\u001b[0m     \u001b[0;32mif\u001b[0m \u001b[0;32mnot\u001b[0m \u001b[0misinstance\u001b[0m\u001b[0;34m(\u001b[0m\u001b[0marrs\u001b[0m\u001b[0;34m,\u001b[0m \u001b[0mlist\u001b[0m\u001b[0;34m)\u001b[0m\u001b[0;34m:\u001b[0m\u001b[0;34m\u001b[0m\u001b[0;34m\u001b[0m\u001b[0m\n\u001b[1;32m    281\u001b[0m         \u001b[0marrs\u001b[0m \u001b[0;34m=\u001b[0m \u001b[0;34m[\u001b[0m\u001b[0marrs\u001b[0m\u001b[0;34m]\u001b[0m\u001b[0;34m\u001b[0m\u001b[0;34m\u001b[0m\u001b[0m\n\u001b[0;32m--> 282\u001b[0;31m     \u001b[0;32mreturn\u001b[0m \u001b[0m_nx\u001b[0m\u001b[0;34m.\u001b[0m\u001b[0mconcatenate\u001b[0m\u001b[0;34m(\u001b[0m\u001b[0marrs\u001b[0m\u001b[0;34m,\u001b[0m \u001b[0;36m0\u001b[0m\u001b[0;34m)\u001b[0m\u001b[0;34m\u001b[0m\u001b[0;34m\u001b[0m\u001b[0m\n\u001b[0m\u001b[1;32m    283\u001b[0m \u001b[0;34m\u001b[0m\u001b[0m\n\u001b[1;32m    284\u001b[0m \u001b[0;34m\u001b[0m\u001b[0m\n",
      "\u001b[0;32m<__array_function__ internals>\u001b[0m in \u001b[0;36mconcatenate\u001b[0;34m(*args, **kwargs)\u001b[0m\n",
      "\u001b[0;31mValueError\u001b[0m: all the input array dimensions for the concatenation axis must match exactly, but along dimension 1, the array at index 0 has size 4 and the array at index 1 has size 2"
     ]
    }
   ],
   "source": [
    "# horizontal stacking # 略\n",
    "h1 = np.ones((2, 4))\n",
    "h2 = np.zeros((2, 2))\n",
    "print(h1)\n",
    "print(h2)\n",
    "print(np.hstack((h1, h2))) # (2,6)\n",
    "np.vstack((h1, h2))"
   ]
  },
  {
   "cell_type": "code",
   "execution_count": null,
   "metadata": {
    "ExecuteTime": {
     "end_time": "2019-12-21T18:02:21.071807Z",
     "start_time": "2019-12-21T18:02:20.867935Z"
    },
    "id": "CeN_tlTwONML"
   },
   "outputs": [],
   "source": [
    "my_start_array = np.arange(24) # 略\n",
    "my_3_8_array = my_start_array.reshape((3, 8))\n",
    "my_2_3_4_array = my_start_array.reshape((2, 3, 4))"
   ]
  },
  {
   "cell_type": "code",
   "execution_count": null,
   "metadata": {
    "ExecuteTime": {
     "end_time": "2019-12-21T18:02:21.208615Z",
     "start_time": "2019-12-21T18:02:21.072805Z"
    },
    "id": "rOYpfgQ6ONML"
   },
   "outputs": [],
   "source": [
    "# fliplr - flip left right is equivalent to slice [:, ::-1]. The array flips along the second axis. # 略"
   ]
  },
  {
   "cell_type": "code",
   "execution_count": null,
   "metadata": {
    "ExecuteTime": {
     "end_time": "2019-12-21T18:02:21.350024Z",
     "start_time": "2019-12-21T18:02:21.210544Z"
    },
    "colab": {
     "base_uri": "https://localhost:8080/"
    },
    "executionInfo": {
     "elapsed": 633,
     "status": "ok",
     "timestamp": 1659836684692,
     "user": {
      "displayName": "alan chen",
      "userId": "04205973771808470178"
     },
     "user_tz": -480
    },
    "id": "4BuZRx7mONML",
    "outputId": "b7d5a3cf-ad26-4bc7-aedf-8fea37568216"
   },
   "outputs": [
    {
     "data": {
      "text/plain": [
       "array([[ 0,  1,  2,  3,  4,  5,  6,  7],\n",
       "       [ 8,  9, 10, 11, 12, 13, 14, 15],\n",
       "       [16, 17, 18, 19, 20, 21, 22, 23]])"
      ]
     },
     "execution_count": 148,
     "metadata": {},
     "output_type": "execute_result"
    }
   ],
   "source": [
    "my_3_8_array"
   ]
  },
  {
   "cell_type": "code",
   "execution_count": null,
   "metadata": {
    "ExecuteTime": {
     "end_time": "2019-12-21T18:02:21.511541Z",
     "start_time": "2019-12-21T18:02:21.350984Z"
    },
    "colab": {
     "base_uri": "https://localhost:8080/"
    },
    "executionInfo": {
     "elapsed": 92,
     "status": "ok",
     "timestamp": 1659836684692,
     "user": {
      "displayName": "alan chen",
      "userId": "04205973771808470178"
     },
     "user_tz": -480
    },
    "id": "7QTkqC7sONML",
    "outputId": "aceb3c49-c5c9-4b39-be21-a8f502e52cd2"
   },
   "outputs": [
    {
     "data": {
      "text/plain": [
       "array([[ 7,  6,  5,  4,  3,  2,  1,  0],\n",
       "       [15, 14, 13, 12, 11, 10,  9,  8],\n",
       "       [23, 22, 21, 20, 19, 18, 17, 16]])"
      ]
     },
     "execution_count": 149,
     "metadata": {},
     "output_type": "execute_result"
    }
   ],
   "source": [
    "np.fliplr(my_3_8_array) # is equivalent to slice [:, ::-1] # 略"
   ]
  },
  {
   "cell_type": "code",
   "execution_count": null,
   "metadata": {
    "colab": {
     "base_uri": "https://localhost:8080/"
    },
    "executionInfo": {
     "elapsed": 91,
     "status": "ok",
     "timestamp": 1659836684693,
     "user": {
      "displayName": "alan chen",
      "userId": "04205973771808470178"
     },
     "user_tz": -480
    },
    "id": "cRLmSS6vaTFH",
    "outputId": "309b7074-7a20-47ac-dd95-c6ec91c4645b"
   },
   "outputs": [
    {
     "data": {
      "text/plain": [
       "array([[ 7,  6,  5,  4,  3,  2,  1,  0],\n",
       "       [15, 14, 13, 12, 11, 10,  9,  8],\n",
       "       [23, 22, 21, 20, 19, 18, 17, 16]])"
      ]
     },
     "execution_count": 150,
     "metadata": {},
     "output_type": "execute_result"
    }
   ],
   "source": [
    "my_3_8_array[:, ::-1]"
   ]
  },
  {
   "cell_type": "code",
   "execution_count": null,
   "metadata": {
    "ExecuteTime": {
     "end_time": "2019-12-21T18:02:21.678244Z",
     "start_time": "2019-12-21T18:02:21.512501Z"
    },
    "colab": {
     "base_uri": "https://localhost:8080/"
    },
    "executionInfo": {
     "elapsed": 84,
     "status": "ok",
     "timestamp": 1659836684693,
     "user": {
      "displayName": "alan chen",
      "userId": "04205973771808470178"
     },
     "user_tz": -480
    },
    "id": "8b9_DgweONML",
    "outputId": "eeb846f3-ab8e-4cb2-fdc0-b72404391ca2"
   },
   "outputs": [
    {
     "data": {
      "text/plain": [
       "array([[[ 0,  1,  2,  3],\n",
       "        [ 4,  5,  6,  7],\n",
       "        [ 8,  9, 10, 11]],\n",
       "\n",
       "       [[12, 13, 14, 15],\n",
       "        [16, 17, 18, 19],\n",
       "        [20, 21, 22, 23]]])"
      ]
     },
     "execution_count": 151,
     "metadata": {},
     "output_type": "execute_result"
    }
   ],
   "source": [
    "my_2_3_4_array"
   ]
  },
  {
   "cell_type": "code",
   "execution_count": null,
   "metadata": {
    "ExecuteTime": {
     "end_time": "2019-12-21T18:02:21.871645Z",
     "start_time": "2019-12-21T18:02:21.679203Z"
    },
    "colab": {
     "base_uri": "https://localhost:8080/"
    },
    "executionInfo": {
     "elapsed": 79,
     "status": "ok",
     "timestamp": 1659836684693,
     "user": {
      "displayName": "alan chen",
      "userId": "04205973771808470178"
     },
     "user_tz": -480
    },
    "id": "9k4wMtyfONML",
    "outputId": "5cfbd595-ca29-409c-8e37-62dd173787eb"
   },
   "outputs": [
    {
     "data": {
      "text/plain": [
       "array([[[ 8,  9, 10, 11],\n",
       "        [ 4,  5,  6,  7],\n",
       "        [ 0,  1,  2,  3]],\n",
       "\n",
       "       [[20, 21, 22, 23],\n",
       "        [16, 17, 18, 19],\n",
       "        [12, 13, 14, 15]]])"
      ]
     },
     "execution_count": 152,
     "metadata": {},
     "output_type": "execute_result"
    }
   ],
   "source": [
    "np.fliplr(my_2_3_4_array) # is equivalent to slice [:, ::-1, :]. The array flips along the second axis. # 略"
   ]
  },
  {
   "cell_type": "code",
   "execution_count": null,
   "metadata": {
    "colab": {
     "base_uri": "https://localhost:8080/"
    },
    "executionInfo": {
     "elapsed": 75,
     "status": "ok",
     "timestamp": 1659836684693,
     "user": {
      "displayName": "alan chen",
      "userId": "04205973771808470178"
     },
     "user_tz": -480
    },
    "id": "pRFGVVBbA0_Z",
    "outputId": "78f6095f-a130-4ef3-c2c2-84aec698cf55"
   },
   "outputs": [
    {
     "data": {
      "text/plain": [
       "array([[[ 8,  9, 10, 11],\n",
       "        [ 4,  5,  6,  7],\n",
       "        [ 0,  1,  2,  3]],\n",
       "\n",
       "       [[20, 21, 22, 23],\n",
       "        [16, 17, 18, 19],\n",
       "        [12, 13, 14, 15]]])"
      ]
     },
     "execution_count": 153,
     "metadata": {},
     "output_type": "execute_result"
    }
   ],
   "source": [
    "my_2_3_4_array[:, ::-1] # my_2_3_4_array[:, ::-1, :]"
   ]
  },
  {
   "cell_type": "code",
   "execution_count": null,
   "metadata": {
    "colab": {
     "base_uri": "https://localhost:8080/"
    },
    "executionInfo": {
     "elapsed": 70,
     "status": "ok",
     "timestamp": 1659836684694,
     "user": {
      "displayName": "alan chen",
      "userId": "04205973771808470178"
     },
     "user_tz": -480
    },
    "id": "rqHzt61NB2rY",
    "outputId": "ee88f41a-3e7e-42a9-bd33-c163a932c34a"
   },
   "outputs": [
    {
     "name": "stdout",
     "output_type": "stream",
     "text": [
      "[[ 0  1  2  3  4  5  6  7]\n",
      " [ 8  9 10 11 12 13 14 15]\n",
      " [16 17 18 19 20 21 22 23]]\n"
     ]
    }
   ],
   "source": [
    "print(my_3_8_array)"
   ]
  },
  {
   "cell_type": "code",
   "execution_count": null,
   "metadata": {
    "ExecuteTime": {
     "end_time": "2019-12-21T18:02:22.022608Z",
     "start_time": "2019-12-21T18:02:21.872598Z"
    },
    "colab": {
     "base_uri": "https://localhost:8080/"
    },
    "executionInfo": {
     "elapsed": 65,
     "status": "ok",
     "timestamp": 1659836684694,
     "user": {
      "displayName": "alan chen",
      "userId": "04205973771808470178"
     },
     "user_tz": -480
    },
    "id": "ssMPJ46CONML",
    "outputId": "cf3517e2-f516-46c2-e5e1-924cc94d19c6"
   },
   "outputs": [
    {
     "name": "stdout",
     "output_type": "stream",
     "text": [
      "[[16 17 18 19 20 21 22 23]\n",
      " [ 8  9 10 11 12 13 14 15]\n",
      " [ 0  1  2  3  4  5  6  7]]\n",
      "------------------------\n",
      "[[16 17 18 19 20 21 22 23]\n",
      " [ 8  9 10 11 12 13 14 15]\n",
      " [ 0  1  2  3  4  5  6  7]]\n"
     ]
    }
   ],
   "source": [
    "# flip upside down\n",
    "print(np.flipud(my_3_8_array)) # is equivalent to slice [::-1]. The array flips along the first axis. # 略\n",
    "print('------------------------')\n",
    "print(my_3_8_array[::-1]) # my_3_8_array[::-1, :]"
   ]
  },
  {
   "cell_type": "code",
   "execution_count": null,
   "metadata": {
    "colab": {
     "base_uri": "https://localhost:8080/"
    },
    "executionInfo": {
     "elapsed": 60,
     "status": "ok",
     "timestamp": 1659836684694,
     "user": {
      "displayName": "alan chen",
      "userId": "04205973771808470178"
     },
     "user_tz": -480
    },
    "id": "mNpcUiFRCUal",
    "outputId": "244b925b-6570-4125-a262-2b26950d2420"
   },
   "outputs": [
    {
     "name": "stdout",
     "output_type": "stream",
     "text": [
      "[[[ 0  1  2  3]\n",
      "  [ 4  5  6  7]\n",
      "  [ 8  9 10 11]]\n",
      "\n",
      " [[12 13 14 15]\n",
      "  [16 17 18 19]\n",
      "  [20 21 22 23]]]\n"
     ]
    }
   ],
   "source": [
    "print(my_2_3_4_array)"
   ]
  },
  {
   "cell_type": "code",
   "execution_count": null,
   "metadata": {
    "ExecuteTime": {
     "end_time": "2019-12-21T18:02:22.161555Z",
     "start_time": "2019-12-21T18:02:22.023605Z"
    },
    "colab": {
     "base_uri": "https://localhost:8080/"
    },
    "executionInfo": {
     "elapsed": 57,
     "status": "ok",
     "timestamp": 1659836684695,
     "user": {
      "displayName": "alan chen",
      "userId": "04205973771808470178"
     },
     "user_tz": -480
    },
    "id": "axrtxwmNONML",
    "outputId": "dbe58bac-9a6b-4899-d182-5458b1399e49"
   },
   "outputs": [
    {
     "name": "stdout",
     "output_type": "stream",
     "text": [
      "[[[12 13 14 15]\n",
      "  [16 17 18 19]\n",
      "  [20 21 22 23]]\n",
      "\n",
      " [[ 0  1  2  3]\n",
      "  [ 4  5  6  7]\n",
      "  [ 8  9 10 11]]]\n",
      "-------------\n",
      "[[[12 13 14 15]\n",
      "  [16 17 18 19]\n",
      "  [20 21 22 23]]\n",
      "\n",
      " [[ 0  1  2  3]\n",
      "  [ 4  5  6  7]\n",
      "  [ 8  9 10 11]]]\n"
     ]
    }
   ],
   "source": [
    "print(np.flipud(my_2_3_4_array)) # is equivalent to slice [::-1]. The array flips along the first axis. # 略\n",
    "print('-------------')\n",
    "print(my_2_3_4_array[::-1]) # my_2_3_4_array[::-1,:,:]   # [::-1] -> [-1::-1]"
   ]
  },
  {
   "cell_type": "code",
   "execution_count": null,
   "metadata": {
    "colab": {
     "base_uri": "https://localhost:8080/"
    },
    "executionInfo": {
     "elapsed": 5,
     "status": "ok",
     "timestamp": 1667812297303,
     "user": {
      "displayName": "alan chen",
      "userId": "04205973771808470178"
     },
     "user_tz": -480
    },
    "id": "2a9ugMZsWsY1",
    "outputId": "d0c097ea-9a92-4c5f-8e46-2759c81129b0"
   },
   "outputs": [
    {
     "data": {
      "text/plain": [
       "array([[1, 2, 3, 4],\n",
       "       [5, 6, 7, 8]])"
      ]
     },
     "execution_count": 6,
     "metadata": {},
     "output_type": "execute_result"
    }
   ],
   "source": [
    "before = np.array([[1, 2, 3, 4], [5, 6, 7, 8]])\n",
    "before"
   ]
  },
  {
   "cell_type": "code",
   "execution_count": null,
   "metadata": {
    "colab": {
     "base_uri": "https://localhost:8080/"
    },
    "executionInfo": {
     "elapsed": 288,
     "status": "ok",
     "timestamp": 1667812300939,
     "user": {
      "displayName": "alan chen",
      "userId": "04205973771808470178"
     },
     "user_tz": -480
    },
    "id": "DkNgZ-Y0W-c6",
    "outputId": "d5451a03-3767-46ad-936a-355e997ba8f8"
   },
   "outputs": [
    {
     "data": {
      "text/plain": [
       "array([[5, 6, 7, 8],\n",
       "       [1, 2, 3, 4]])"
      ]
     },
     "execution_count": 7,
     "metadata": {},
     "output_type": "execute_result"
    }
   ],
   "source": [
    "before[::-1] # step=-1"
   ]
  },
  {
   "cell_type": "code",
   "execution_count": null,
   "metadata": {
    "colab": {
     "base_uri": "https://localhost:8080/"
    },
    "executionInfo": {
     "elapsed": 290,
     "status": "ok",
     "timestamp": 1667812524642,
     "user": {
      "displayName": "alan chen",
      "userId": "04205973771808470178"
     },
     "user_tz": -480
    },
    "id": "TgzCgQsLX0AX",
    "outputId": "67961f77-41f4-4829-fa5a-9c83d1b1c850"
   },
   "outputs": [
    {
     "data": {
      "text/plain": [
       "array([[5, 6, 7, 8],\n",
       "       [1, 2, 3, 4]])"
      ]
     },
     "execution_count": 14,
     "metadata": {},
     "output_type": "execute_result"
    }
   ],
   "source": [
    "before[-1::-1] # step=-1"
   ]
  },
  {
   "cell_type": "code",
   "execution_count": null,
   "metadata": {
    "colab": {
     "base_uri": "https://localhost:8080/"
    },
    "executionInfo": {
     "elapsed": 358,
     "status": "ok",
     "timestamp": 1667812546280,
     "user": {
      "displayName": "alan chen",
      "userId": "04205973771808470178"
     },
     "user_tz": -480
    },
    "id": "7EWQK66uW4dY",
    "outputId": "da4509a4-3d3f-45e9-815a-927390dc3c13"
   },
   "outputs": [
    {
     "data": {
      "text/plain": [
       "array([[5, 6, 7, 8]])"
      ]
     },
     "execution_count": 15,
     "metadata": {},
     "output_type": "execute_result"
    }
   ],
   "source": [
    "before[-1::] # step=+1"
   ]
  },
  {
   "cell_type": "code",
   "execution_count": null,
   "metadata": {
    "colab": {
     "base_uri": "https://localhost:8080/"
    },
    "executionInfo": {
     "elapsed": 295,
     "status": "ok",
     "timestamp": 1667812578444,
     "user": {
      "displayName": "alan chen",
      "userId": "04205973771808470178"
     },
     "user_tz": -480
    },
    "id": "5DYexirFYAhh",
    "outputId": "bf998c18-e9c0-48d7-8f90-f2ddbcbc4951"
   },
   "outputs": [
    {
     "data": {
      "text/plain": [
       "array([[5, 6, 7, 8]])"
      ]
     },
     "execution_count": 16,
     "metadata": {},
     "output_type": "execute_result"
    }
   ],
   "source": [
    "before[-1:] # step=+1"
   ]
  },
  {
   "cell_type": "code",
   "execution_count": null,
   "metadata": {
    "colab": {
     "base_uri": "https://localhost:8080/"
    },
    "executionInfo": {
     "elapsed": 321,
     "status": "ok",
     "timestamp": 1667812446722,
     "user": {
      "displayName": "alan chen",
      "userId": "04205973771808470178"
     },
     "user_tz": -480
    },
    "id": "Yv2VCMOrXhln",
    "outputId": "df2f5c28-9a37-4bf4-aa77-0bda2b987fca"
   },
   "outputs": [
    {
     "data": {
      "text/plain": [
       "array([5, 6, 7, 8])"
      ]
     },
     "execution_count": 13,
     "metadata": {},
     "output_type": "execute_result"
    }
   ],
   "source": [
    "before[-1] # 1-d"
   ]
  },
  {
   "cell_type": "code",
   "execution_count": null,
   "metadata": {
    "colab": {
     "base_uri": "https://localhost:8080/"
    },
    "executionInfo": {
     "elapsed": 307,
     "status": "ok",
     "timestamp": 1667812845665,
     "user": {
      "displayName": "alan chen",
      "userId": "04205973771808470178"
     },
     "user_tz": -480
    },
    "id": "IHBrPSrsZDAJ",
    "outputId": "d0dce79e-cafa-470b-fe87-ca5343c96650"
   },
   "outputs": [
    {
     "data": {
      "text/plain": [
       "array([5, 6, 7, 8])"
      ]
     },
     "execution_count": 17,
     "metadata": {},
     "output_type": "execute_result"
    }
   ],
   "source": [
    "before[-1, :] # 1-d"
   ]
  },
  {
   "cell_type": "code",
   "execution_count": null,
   "metadata": {
    "ExecuteTime": {
     "end_time": "2019-12-21T18:02:22.395313Z",
     "start_time": "2019-12-21T18:02:22.162517Z"
    },
    "colab": {
     "base_uri": "https://localhost:8080/"
    },
    "executionInfo": {
     "elapsed": 51,
     "status": "ok",
     "timestamp": 1659836684695,
     "user": {
      "displayName": "alan chen",
      "userId": "04205973771808470178"
     },
     "user_tz": -480
    },
    "id": "FYZ1Z6gfONML",
    "outputId": "634cdd81-c313-4396-c4d6-710e7efde893"
   },
   "outputs": [
    {
     "data": {
      "text/plain": [
       "array([ 0,  1,  2,  3,  4,  5,  6,  7,  8,  9, 10, 11, 12, 13, 14, 15, 16,\n",
       "       17, 18, 19, 20, 21, 22, 23])"
      ]
     },
     "execution_count": 158,
     "metadata": {},
     "output_type": "execute_result"
    }
   ],
   "source": [
    "my_start_array"
   ]
  },
  {
   "cell_type": "code",
   "execution_count": null,
   "metadata": {
    "ExecuteTime": {
     "end_time": "2019-12-21T18:02:23.116424Z",
     "start_time": "2019-12-21T18:02:22.978504Z"
    },
    "colab": {
     "base_uri": "https://localhost:8080/"
    },
    "executionInfo": {
     "elapsed": 46,
     "status": "ok",
     "timestamp": 1659836684695,
     "user": {
      "displayName": "alan chen",
      "userId": "04205973771808470178"
     },
     "user_tz": -480
    },
    "id": "mV8Ya42QONML",
    "outputId": "e7242af4-0eee-4f0d-98a8-4bc51b3a636e"
   },
   "outputs": [
    {
     "data": {
      "text/plain": [
       "array([[ 0,  1,  2,  3,  4,  5,  6,  7],\n",
       "       [ 8,  9, 10, 11, 12, 13, 14, 15],\n",
       "       [16, 17, 18, 19, 20, 21, 22, 23]])"
      ]
     },
     "execution_count": 159,
     "metadata": {},
     "output_type": "execute_result"
    }
   ],
   "source": [
    "my_3_8_array"
   ]
  },
  {
   "cell_type": "code",
   "execution_count": null,
   "metadata": {
    "ExecuteTime": {
     "end_time": "2019-12-21T18:02:23.294607Z",
     "start_time": "2019-12-21T18:02:23.117385Z"
    },
    "colab": {
     "base_uri": "https://localhost:8080/"
    },
    "executionInfo": {
     "elapsed": 42,
     "status": "ok",
     "timestamp": 1659836684695,
     "user": {
      "displayName": "alan chen",
      "userId": "04205973771808470178"
     },
     "user_tz": -480
    },
    "id": "Ow6iyx5-ONML",
    "outputId": "6dc2d8bc-f8e4-4a31-efd2-5512b6062ded"
   },
   "outputs": [
    {
     "data": {
      "text/plain": [
       "array([[ 7, 15, 23],\n",
       "       [ 6, 14, 22],\n",
       "       [ 5, 13, 21],\n",
       "       [ 4, 12, 20],\n",
       "       [ 3, 11, 19],\n",
       "       [ 2, 10, 18],\n",
       "       [ 1,  9, 17],\n",
       "       [ 0,  8, 16]])"
      ]
     },
     "execution_count": 160,
     "metadata": {},
     "output_type": "execute_result"
    }
   ],
   "source": [
    "# rotate 90 degree # 略\n",
    "\n",
    "np.rot90(my_3_8_array) # rotate in counter-clockwise"
   ]
  },
  {
   "cell_type": "code",
   "execution_count": null,
   "metadata": {
    "ExecuteTime": {
     "end_time": "2019-12-21T18:02:23.456113Z",
     "start_time": "2019-12-21T18:02:23.295604Z"
    },
    "colab": {
     "base_uri": "https://localhost:8080/"
    },
    "executionInfo": {
     "elapsed": 38,
     "status": "ok",
     "timestamp": 1659836684696,
     "user": {
      "displayName": "alan chen",
      "userId": "04205973771808470178"
     },
     "user_tz": -480
    },
    "id": "x7pUvb5PONML",
    "outputId": "0d61d424-4534-4061-ec22-ca2bc7397459"
   },
   "outputs": [
    {
     "data": {
      "text/plain": [
       "array([[16,  8,  0],\n",
       "       [17,  9,  1],\n",
       "       [18, 10,  2],\n",
       "       [19, 11,  3],\n",
       "       [20, 12,  4],\n",
       "       [21, 13,  5],\n",
       "       [22, 14,  6],\n",
       "       [23, 15,  7]])"
      ]
     },
     "execution_count": 161,
     "metadata": {},
     "output_type": "execute_result"
    }
   ],
   "source": [
    "np.rot90(my_3_8_array, k=-1) # rotate in clockwise # 略"
   ]
  },
  {
   "cell_type": "markdown",
   "metadata": {
    "id": "tYbkC29JONML"
   },
   "source": [
    "## Transpose-like operations"
   ]
  },
  {
   "cell_type": "code",
   "execution_count": null,
   "metadata": {
    "ExecuteTime": {
     "end_time": "2019-12-21T18:02:23.605408Z",
     "start_time": "2019-12-21T18:02:23.457111Z"
    },
    "id": "jyr8whGyONML"
   },
   "outputs": [],
   "source": [
    "my_start_array = np.arange(24)\n",
    "my_3_8_array = my_start_array.reshape((3, 8))\n",
    "my_2_3_4_array = my_start_array.reshape((2, 3, 4))"
   ]
  },
  {
   "cell_type": "code",
   "execution_count": null,
   "metadata": {
    "ExecuteTime": {
     "end_time": "2019-12-21T18:02:23.733772Z",
     "start_time": "2019-12-21T18:02:23.606354Z"
    },
    "colab": {
     "base_uri": "https://localhost:8080/"
    },
    "executionInfo": {
     "elapsed": 33,
     "status": "ok",
     "timestamp": 1659836684696,
     "user": {
      "displayName": "alan chen",
      "userId": "04205973771808470178"
     },
     "user_tz": -480
    },
    "id": "8xwf1ZyrONML",
    "outputId": "64be0958-a7c2-4467-afd5-e445d5727908"
   },
   "outputs": [
    {
     "name": "stdout",
     "output_type": "stream",
     "text": [
      "[ 0  1  2  3  4  5  6  7  8  9 10 11 12 13 14 15 16 17 18 19 20 21 22 23]\n",
      "-----\n",
      "[ 0  1  2  3  4  5  6  7  8  9 10 11 12 13 14 15 16 17 18 19 20 21 22 23]\n"
     ]
    }
   ],
   "source": [
    "print(my_start_array)\n",
    "print('-----')\n",
    "print(my_start_array.T)\n",
    "# or\n",
    "# print(np.transpose(my_start_array))"
   ]
  },
  {
   "cell_type": "code",
   "execution_count": null,
   "metadata": {
    "ExecuteTime": {
     "end_time": "2019-12-21T18:02:23.872952Z",
     "start_time": "2019-12-21T18:02:23.734769Z"
    },
    "colab": {
     "base_uri": "https://localhost:8080/"
    },
    "executionInfo": {
     "elapsed": 29,
     "status": "ok",
     "timestamp": 1659836684696,
     "user": {
      "displayName": "alan chen",
      "userId": "04205973771808470178"
     },
     "user_tz": -480
    },
    "id": "BZHH-te7ONML",
    "outputId": "202319ac-389f-4575-afb4-7416514a914b"
   },
   "outputs": [
    {
     "name": "stdout",
     "output_type": "stream",
     "text": [
      "[[ 0  1  2  3  4  5  6  7]\n",
      " [ 8  9 10 11 12 13 14 15]\n",
      " [16 17 18 19 20 21 22 23]]\n",
      "-----\n",
      "[[ 0  8 16]\n",
      " [ 1  9 17]\n",
      " [ 2 10 18]\n",
      " [ 3 11 19]\n",
      " [ 4 12 20]\n",
      " [ 5 13 21]\n",
      " [ 6 14 22]\n",
      " [ 7 15 23]]\n"
     ]
    }
   ],
   "source": [
    "print(my_3_8_array)\n",
    "print('-----')\n",
    "print(my_3_8_array.T) # # axes (0,1) -> (1,0)"
   ]
  },
  {
   "cell_type": "code",
   "execution_count": null,
   "metadata": {
    "ExecuteTime": {
     "end_time": "2019-12-21T18:02:24.027968Z",
     "start_time": "2019-12-21T18:02:23.873906Z"
    },
    "colab": {
     "base_uri": "https://localhost:8080/"
    },
    "executionInfo": {
     "elapsed": 25,
     "status": "ok",
     "timestamp": 1659836684697,
     "user": {
      "displayName": "alan chen",
      "userId": "04205973771808470178"
     },
     "user_tz": -480
    },
    "id": "JcLrl_3lONML",
    "outputId": "f2f4eaa5-3b43-4a92-9e98-8489308d3ca2"
   },
   "outputs": [
    {
     "name": "stdout",
     "output_type": "stream",
     "text": [
      "[[[ 0  1  2  3]\n",
      "  [ 4  5  6  7]\n",
      "  [ 8  9 10 11]]\n",
      "\n",
      " [[12 13 14 15]\n",
      "  [16 17 18 19]\n",
      "  [20 21 22 23]]]\n",
      "-----\n",
      "[[[ 0  4  8]\n",
      "  [ 1  5  9]\n",
      "  [ 2  6 10]\n",
      "  [ 3  7 11]]\n",
      "\n",
      " [[12 16 20]\n",
      "  [13 17 21]\n",
      "  [14 18 22]\n",
      "  [15 19 23]]]\n",
      "-----\n",
      "[[[ 0  1  2  3]\n",
      "  [ 4  5  6  7]\n",
      "  [ 8  9 10 11]]\n",
      "\n",
      " [[12 13 14 15]\n",
      "  [16 17 18 19]\n",
      "  [20 21 22 23]]]\n"
     ]
    }
   ],
   "source": [
    "print(my_2_3_4_array)\n",
    "print('-----')\n",
    "print(np.transpose(my_2_3_4_array, axes=(0,2,1))) # (0,1,2) -> (0,2,1)\n",
    "print('-----')\n",
    "print(np.transpose(my_2_3_4_array, axes=(0,1,2))) # no change\n",
    "\n",
    "# transpose over axes index by 2 and axes index by  1\n",
    "# axes = By default, reverse the dimensions, \n",
    "# otherwise permute the axes according to the values given."
   ]
  },
  {
   "cell_type": "code",
   "execution_count": null,
   "metadata": {
    "colab": {
     "base_uri": "https://localhost:8080/"
    },
    "executionInfo": {
     "elapsed": 20,
     "status": "ok",
     "timestamp": 1659836684697,
     "user": {
      "displayName": "alan chen",
      "userId": "04205973771808470178"
     },
     "user_tz": -480
    },
    "id": "xXd4t3pa4Sea",
    "outputId": "b197d84d-ce48-4f50-ecc5-b0bd944adce1"
   },
   "outputs": [
    {
     "name": "stdout",
     "output_type": "stream",
     "text": [
      "[[[ 0  1  2  3]\n",
      "  [ 4  5  6  7]\n",
      "  [ 8  9 10 11]]\n",
      "\n",
      " [[12 13 14 15]\n",
      "  [16 17 18 19]\n",
      "  [20 21 22 23]]]\n",
      "[[[ 0 12]\n",
      "  [ 1 13]\n",
      "  [ 2 14]\n",
      "  [ 3 15]]\n",
      "\n",
      " [[ 4 16]\n",
      "  [ 5 17]\n",
      "  [ 6 18]\n",
      "  [ 7 19]]\n",
      "\n",
      " [[ 8 20]\n",
      "  [ 9 21]\n",
      "  [10 22]\n",
      "  [11 23]]]\n"
     ]
    }
   ],
   "source": [
    "print(my_2_3_4_array) # shape=(2,3,4)\n",
    "print(np.transpose(my_2_3_4_array, axes=(1,2,0))) # shape=(3,4,2)"
   ]
  },
  {
   "cell_type": "code",
   "execution_count": null,
   "metadata": {
    "id": "1HDGTVypONML"
   },
   "outputs": [],
   "source": [
    "# excercise 2\n",
    "\n",
    "# Create 2d array (4*3) (value 1-12)\n",
    "\n",
    "# 其中大於 5的奇數 + 200\n",
    "\n",
    "\n",
    "# Create a 10x10 array with random values from the \"standard normal\" distribution. (numpy.random.randn())\n",
    "\n",
    "# find the minimum and maximum values\n",
    "\n",
    "\n",
    "# Create a 5x10 array with numpy.random.randn()\n",
    "\n",
    "# find the mean of each row\n",
    "\n",
    "# find the sum of each col"
   ]
  },
  {
   "cell_type": "code",
   "execution_count": null,
   "metadata": {
    "id": "s5aFSFX2zNUE"
   },
   "outputs": [],
   "source": []
  },
  {
   "cell_type": "code",
   "execution_count": null,
   "metadata": {
    "id": "OKgqa4FFONML"
   },
   "outputs": [],
   "source": [
    "# excercise 3\n",
    "\n",
    "# 試以 Numpy 畫棋盤\n",
    "\n",
    "# 1.周邊 1, 內部 0\n",
    "# [[1. 1. 1. 1. 1. 1. 1. 1. 1. 1.]\n",
    "#  [1. 0. 0. 0. 0. 0. 0. 0. 0. 1.]\n",
    "#  [1. 0. 0. 0. 0. 0. 0. 0. 0. 1.]\n",
    "#  [1. 0. 0. 0. 0. 0. 0. 0. 0. 1.]\n",
    "#  [1. 0. 0. 0. 0. 0. 0. 0. 0. 1.]\n",
    "#  [1. 0. 0. 0. 0. 0. 0. 0. 0. 1.]\n",
    "#  [1. 0. 0. 0. 0. 0. 0. 0. 0. 1.]\n",
    "#  [1. 0. 0. 0. 0. 0. 0. 0. 0. 1.]\n",
    "#  [1. 0. 0. 0. 0. 0. 0. 0. 0. 1.]\n",
    "#  [1. 1. 1. 1. 1. 1. 1. 1. 1. 1.]]\n",
    "\n",
    "\n",
    "# 2.周邊 0, 內部 1\n",
    "# [[0. 0. 0. 0. 0. 0. 0. 0. 0. 0.]\n",
    "#  [0. 1. 1. 1. 1. 1. 1. 1. 1. 0.]\n",
    "#  [0. 1. 1. 1. 1. 1. 1. 1. 1. 0.]\n",
    "#  [0. 1. 1. 1. 1. 1. 1. 1. 1. 0.]\n",
    "#  [0. 1. 1. 1. 1. 1. 1. 1. 1. 0.]\n",
    "#  [0. 1. 1. 1. 1. 1. 1. 1. 1. 0.]\n",
    "#  [0. 1. 1. 1. 1. 1. 1. 1. 1. 0.]\n",
    "#  [0. 1. 1. 1. 1. 1. 1. 1. 1. 0.]\n",
    "#  [0. 1. 1. 1. 1. 1. 1. 1. 1. 0.]\n",
    "#  [0. 0. 0. 0. 0. 0. 0. 0. 0. 0.]]\n",
    "\n",
    "\n",
    "# 3.棋盤 0, 1 交錯 # 提示 建立0或1部分的Mask\n",
    "# [[0. 1. 0. 1. 0. 1. 0. 1. 0. 1.]\n",
    "#  [1. 0. 1. 0. 1. 0. 1. 0. 1. 0.]\n",
    "#  [0. 1. 0. 1. 0. 1. 0. 1. 0. 1.]\n",
    "#  [1. 0. 1. 0. 1. 0. 1. 0. 1. 0.]\n",
    "#  [0. 1. 0. 1. 0. 1. 0. 1. 0. 1.]\n",
    "#  [1. 0. 1. 0. 1. 0. 1. 0. 1. 0.]\n",
    "#  [0. 1. 0. 1. 0. 1. 0. 1. 0. 1.]\n",
    "#  [1. 0. 1. 0. 1. 0. 1. 0. 1. 0.]\n",
    "#  [0. 1. 0. 1. 0. 1. 0. 1. 0. 1.]\n",
    "#  [1. 0. 1. 0. 1. 0. 1. 0. 1. 0.]]"
   ]
  },
  {
   "cell_type": "code",
   "execution_count": null,
   "metadata": {
    "id": "kV7V2S5wzPmV"
   },
   "outputs": [],
   "source": []
  }
 ],
 "metadata": {
  "colab": {
   "provenance": []
  },
  "kernelspec": {
   "display_name": "Python 3 (ipykernel)",
   "language": "python",
   "name": "python3"
  },
  "language_info": {
   "codemirror_mode": {
    "name": "ipython",
    "version": 3
   },
   "file_extension": ".py",
   "mimetype": "text/x-python",
   "name": "python",
   "nbconvert_exporter": "python",
   "pygments_lexer": "ipython3",
   "version": "3.7.16"
  },
  "toc": {
   "base_numbering": 1,
   "nav_menu": {},
   "number_sections": true,
   "sideBar": true,
   "skip_h1_title": false,
   "title_cell": "Table of Contents",
   "title_sidebar": "Contents",
   "toc_cell": true,
   "toc_position": {
    "height": "calc(100% - 180px)",
    "left": "10px",
    "top": "150px",
    "width": "165px"
   },
   "toc_section_display": true,
   "toc_window_display": false
  },
  "varInspector": {
   "cols": {
    "lenName": 16,
    "lenType": 16,
    "lenVar": 40
   },
   "kernels_config": {
    "python": {
     "delete_cmd_postfix": "",
     "delete_cmd_prefix": "del ",
     "library": "var_list.py",
     "varRefreshCmd": "print(var_dic_list())"
    },
    "r": {
     "delete_cmd_postfix": ") ",
     "delete_cmd_prefix": "rm(",
     "library": "var_list.r",
     "varRefreshCmd": "cat(var_dic_list()) "
    }
   },
   "types_to_exclude": [
    "module",
    "function",
    "builtin_function_or_method",
    "instance",
    "_Feature"
   ],
   "window_display": false
  }
 },
 "nbformat": 4,
 "nbformat_minor": 1
}
